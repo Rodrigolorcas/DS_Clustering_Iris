{
 "cells": [
  {
   "cell_type": "markdown",
   "metadata": {},
   "source": [
    "#### Getting data"
   ]
  },
  {
   "cell_type": "code",
   "execution_count": 3,
   "metadata": {},
   "outputs": [
    {
     "data": {
      "text/html": [
       "<div>\n",
       "<style scoped>\n",
       "    .dataframe tbody tr th:only-of-type {\n",
       "        vertical-align: middle;\n",
       "    }\n",
       "\n",
       "    .dataframe tbody tr th {\n",
       "        vertical-align: top;\n",
       "    }\n",
       "\n",
       "    .dataframe thead th {\n",
       "        text-align: right;\n",
       "    }\n",
       "</style>\n",
       "<table border=\"1\" class=\"dataframe\">\n",
       "  <thead>\n",
       "    <tr style=\"text-align: right;\">\n",
       "      <th></th>\n",
       "      <th>sepal_length</th>\n",
       "      <th>sepal_width</th>\n",
       "      <th>petal_length</th>\n",
       "      <th>petal_width</th>\n",
       "      <th>species</th>\n",
       "    </tr>\n",
       "  </thead>\n",
       "  <tbody>\n",
       "    <tr>\n",
       "      <th>0</th>\n",
       "      <td>5.1</td>\n",
       "      <td>3.5</td>\n",
       "      <td>1.4</td>\n",
       "      <td>0.2</td>\n",
       "      <td>Iris-setosa</td>\n",
       "    </tr>\n",
       "    <tr>\n",
       "      <th>1</th>\n",
       "      <td>4.9</td>\n",
       "      <td>3.0</td>\n",
       "      <td>1.4</td>\n",
       "      <td>0.2</td>\n",
       "      <td>Iris-setosa</td>\n",
       "    </tr>\n",
       "    <tr>\n",
       "      <th>2</th>\n",
       "      <td>4.7</td>\n",
       "      <td>3.2</td>\n",
       "      <td>1.3</td>\n",
       "      <td>0.2</td>\n",
       "      <td>Iris-setosa</td>\n",
       "    </tr>\n",
       "    <tr>\n",
       "      <th>3</th>\n",
       "      <td>4.6</td>\n",
       "      <td>3.1</td>\n",
       "      <td>1.5</td>\n",
       "      <td>0.2</td>\n",
       "      <td>Iris-setosa</td>\n",
       "    </tr>\n",
       "    <tr>\n",
       "      <th>4</th>\n",
       "      <td>5.0</td>\n",
       "      <td>3.6</td>\n",
       "      <td>1.4</td>\n",
       "      <td>0.2</td>\n",
       "      <td>Iris-setosa</td>\n",
       "    </tr>\n",
       "  </tbody>\n",
       "</table>\n",
       "</div>"
      ],
      "text/plain": [
       "   sepal_length  sepal_width  petal_length  petal_width      species\n",
       "0           5.1          3.5           1.4          0.2  Iris-setosa\n",
       "1           4.9          3.0           1.4          0.2  Iris-setosa\n",
       "2           4.7          3.2           1.3          0.2  Iris-setosa\n",
       "3           4.6          3.1           1.5          0.2  Iris-setosa\n",
       "4           5.0          3.6           1.4          0.2  Iris-setosa"
      ]
     },
     "metadata": {},
     "output_type": "display_data"
    }
   ],
   "source": [
    "#!pip install pycaret\n",
    "import pandas as pd\n",
    "import numpy as np\n",
    "from pycaret.datasets import get_data\n",
    "\n",
    "df = get_data(\"iris\")"
   ]
  },
  {
   "cell_type": "markdown",
   "metadata": {},
   "source": [
    "#### Modeling"
   ]
  },
  {
   "cell_type": "code",
   "execution_count": 5,
   "metadata": {},
   "outputs": [],
   "source": [
    "from pycaret.clustering import *\n",
    "\n",
    "setup = setup(data = df,\n",
    "            numeric_features= ['sepal_length', 'sepal_width', 'petal_length', 'petal_width'],\n",
    "            ignore_features= [\"species\"],\n",
    "            log_experiment = True,  # log the setup of the experiment on MLflow for Mlops\n",
    "            experiment_name = \"Clustering experiment\",\n",
    "            session_id = 123,\n",
    "            silent=True,\n",
    "            verbose=False\n",
    "            )"
   ]
  },
  {
   "cell_type": "code",
   "execution_count": 7,
   "metadata": {},
   "outputs": [
    {
     "data": {
      "text/html": [
       "<div>\n",
       "<style scoped>\n",
       "    .dataframe tbody tr th:only-of-type {\n",
       "        vertical-align: middle;\n",
       "    }\n",
       "\n",
       "    .dataframe tbody tr th {\n",
       "        vertical-align: top;\n",
       "    }\n",
       "\n",
       "    .dataframe thead th {\n",
       "        text-align: right;\n",
       "    }\n",
       "</style>\n",
       "<table border=\"1\" class=\"dataframe\">\n",
       "  <thead>\n",
       "    <tr style=\"text-align: right;\">\n",
       "      <th></th>\n",
       "      <th>Silhouette</th>\n",
       "      <th>Calinski-Harabasz</th>\n",
       "      <th>Davies-Bouldin</th>\n",
       "      <th>Homogeneity</th>\n",
       "      <th>Rand Index</th>\n",
       "      <th>Completeness</th>\n",
       "    </tr>\n",
       "  </thead>\n",
       "  <tbody>\n",
       "    <tr>\n",
       "      <th>0</th>\n",
       "      <td>0.4978</td>\n",
       "      <td>529.3983</td>\n",
       "      <td>0.7806</td>\n",
       "      <td>0</td>\n",
       "      <td>0</td>\n",
       "      <td>0</td>\n",
       "    </tr>\n",
       "  </tbody>\n",
       "</table>\n",
       "</div>"
      ],
      "text/plain": [
       "   Silhouette  Calinski-Harabasz  ...  Rand Index  Completeness\n",
       "0      0.4978           529.3983  ...           0             0\n",
       "\n",
       "[1 rows x 6 columns]"
      ]
     },
     "metadata": {},
     "output_type": "display_data"
    }
   ],
   "source": [
    "kmeans = create_model(\"kmeans\")"
   ]
  },
  {
   "cell_type": "code",
   "execution_count": 9,
   "metadata": {},
   "outputs": [
    {
     "name": "stdout",
     "output_type": "stream",
     "text": [
      "KMeans(algorithm='auto', copy_x=True, init='k-means++', max_iter=300,\n",
      "       n_clusters=4, n_init=10, n_jobs=-1, precompute_distances='deprecated',\n",
      "       random_state=123, tol=0.0001, verbose=0)\n"
     ]
    }
   ],
   "source": [
    "print(kmeans)"
   ]
  },
  {
   "cell_type": "code",
   "execution_count": 8,
   "metadata": {},
   "outputs": [
    {
     "data": {
      "image/png": "[encoded data removed]",
      "text/plain": [
       "<Figure size 576x396 with 1 Axes>"
      ]
     },
     "metadata": {},
     "output_type": "display_data"
    }
   ],
   "source": [
    "#We have to see the elbow plot to determine the number of clusters\n",
    "plot_model(kmeans, plot=\"elbow\")"
   ]
  },
  {
   "cell_type": "code",
   "execution_count": 10,
   "metadata": {},
   "outputs": [],
   "source": [
    "#After looking at elbow plot, we can see that the best number of clusters is 4. Our kmeans model is using 4 clusters, other wise, we should re train the model with the best number of clusters.\n",
    "kmeans = create_model(\"kmeans\", algorithm='auto', copy_x=True, init='k-means++', max_iter=300,\n",
    "       n_clusters=4, n_init=10, n_jobs=-1, precompute_distances='deprecated',\n",
    "       random_state=123, tol=0.0001, verbose=False)"
   ]
  },
  {
   "cell_type": "markdown",
   "metadata": {},
   "source": [
    "#### Plotting"
   ]
  },
  {
   "cell_type": "code",
   "execution_count": 12,
   "metadata": {},
   "outputs": [
    {
     "data": {
      "application/vnd.plotly.v1+json": {
       "config": {
        "plotlyServerURL": "https://plot.ly"
       },
       "data": [
        {
         "customdata": [
          [
           5.1
          ],
          [
           5.2
          ],
          [
           5.2
          ],
          [
           4.7
          ],
          [
           4.8
          ],
          [
           5.4
          ],
          [
           5.2
          ],
          [
           5.5
          ],
          [
           4.9
          ],
          [
           5
          ],
          [
           4.9
          ],
          [
           5
          ],
          [
           4.4
          ],
          [
           5
          ],
          [
           4.5
          ],
          [
           4.4
          ],
          [
           5
          ],
          [
           5.1
          ],
          [
           4.8
          ],
          [
           5.1
          ],
          [
           4.6
          ],
          [
           5.3
          ],
          [
           5
          ],
          [
           5.1
          ],
          [
           5
          ],
          [
           5.5
          ],
          [
           5.1
          ],
          [
           4.8
          ],
          [
           4.7
          ],
          [
           4.6
          ],
          [
           5
          ],
          [
           5.4
          ],
          [
           4.6
          ],
          [
           5
          ],
          [
           4.4
          ],
          [
           4.9
          ],
          [
           5.4
          ],
          [
           4.8
          ],
          [
           4.9
          ],
          [
           4.3
          ],
          [
           4.8
          ],
          [
           5.1
          ],
          [
           5.4
          ],
          [
           5.1
          ],
          [
           5.7
          ],
          [
           4.6
          ],
          [
           5.4
          ],
          [
           5.7
          ],
          [
           5.8
          ],
          [
           5.1
          ]
         ],
         "hovertemplate": "Cluster=Cluster 0<br>PCA1=%{x}<br>PCA2=%{y}<br>Feature=%{customdata[0]}<extra></extra>",
         "legendgroup": "Cluster 0",
         "marker": {
          "color": "#636efa",
          "opacity": 0.5,
          "symbol": "circle"
         },
         "mode": "markers",
         "name": "Cluster 0",
         "orientation": "v",
         "showlegend": true,
         "textposition": "top center",
         "type": "scatter",
         "x": [
          -2.6842046,
          -2.5623913,
          -2.6398215,
          -2.632848,
          -2.5884624,
          -2.4100778,
          -2.647637,
          -2.5971599,
          -2.673845,
          -2.867,
          -2.673845,
          -2.4690564,
          -2.981843,
          -2.7701392,
          -2.852211,
          -2.9982965,
          -2.4055145,
          -2.2088332,
          -2.7156653,
          -2.5375738,
          -2.8403213,
          -2.542686,
          -2.7039123,
          -2.5903234,
          -2.5079176,
          -2.6252291,
          -2.3031287,
          -2.3561711,
          -2.8898199,
          -2.7464373,
          -2.7285933,
          -2.2798977,
          -2.8208907,
          -2.626482,
          -2.8879585,
          -2.673845,
          -2.5065272,
          -2.6131427,
          -2.7153919,
          -3.2252,
          -2.787434,
          -2.5432353,
          -2.310532,
          -2.5873466,
          -2.1990786,
          -3.2158577,
          -2.6225266,
          -2.38387,
          -2.643544,
          -2.648323
         ],
         "xaxis": "x",
         "y": [
          0.3266077,
          0.37468463,
          0.31929016,
          -0.19007596,
          -0.19739307,
          0.41808036,
          0.8199827,
          1.1000223,
          -0.10669175,
          0.07719318,
          -0.10669175,
          0.13788746,
          -0.48025012,
          0.27105957,
          -0.9328657,
          -0.33430758,
          0.19591734,
          0.44269618,
          -0.24268149,
          0.51036775,
          -0.22057648,
          0.5862814,
          0.11501088,
          0.2360595,
          -0.13905635,
          0.6068003,
          0.1055226,
          -0.031209419,
          -0.13734575,
          -0.31112456,
          0.33392465,
          0.7477831,
          -0.08210457,
          0.1704055,
          -0.5707981,
          -0.10669175,
          0.65193546,
          0.021520836,
          -0.16955675,
          -0.50328,
          -0.22774015,
          0.44003192,
          0.39786813,
          0.52047384,
          0.8792443,
          0.14161551,
          0.8180901,
          1.3447548,
          1.1861955,
          0.3191367
         ],
         "yaxis": "y"
        },
        {
         "customdata": [
          [
           7.1
          ],
          [
           6.4
          ],
          [
           7.9
          ],
          [
           7.4
          ],
          [
           7.2
          ],
          [
           6.4
          ],
          [
           7.7
          ],
          [
           6.3
          ],
          [
           7.2
          ],
          [
           6.3
          ],
          [
           6.7
          ],
          [
           7.6
          ],
          [
           7.3
          ],
          [
           6.7
          ],
          [
           7.2
          ],
          [
           6.8
          ],
          [
           7.7
          ],
          [
           6.4
          ],
          [
           6.5
          ],
          [
           7.7
          ],
          [
           6.2
          ],
          [
           6.5
          ],
          [
           6.3
          ],
          [
           6.9
          ],
          [
           6.9
          ],
          [
           6.7
          ],
          [
           6.7
          ],
          [
           6.8
          ],
          [
           6.9
          ],
          [
           7.7
          ],
          [
           6.4
          ],
          [
           6.7
          ]
         ],
         "hovertemplate": "Cluster=Cluster 1<br>PCA1=%{x}<br>PCA2=%{y}<br>Feature=%{customdata[0]}<extra></extra>",
         "legendgroup": "Cluster 1",
         "marker": {
          "color": "#EF553B",
          "opacity": 0.5,
          "symbol": "circle"
         },
         "mode": "markers",
         "name": "Cluster 1",
         "orientation": "v",
         "showlegend": true,
         "textposition": "top center",
         "type": "scatter",
         "x": [
          2.6164842,
          2.1587384,
          3.2323425,
          2.8409605,
          2.387564,
          2.1228538,
          3.0765204,
          2.5317273,
          2.6141932,
          1.9708148,
          2.275853,
          3.3968792,
          2.932005,
          2.3196726,
          2.9181335,
          2.1653786,
          3.4992647,
          1.9047437,
          1.9492486,
          3.4887643,
          1.901629,
          2.3497581,
          2.1449869,
          2.4281664,
          2.1076531,
          1.9440165,
          2.4193907,
          2.5633225,
          1.9224501,
          3.794686,
          1.9048628,
          2.3143032
         ],
         "xaxis": "x",
         "y": [
          0.34193537,
          -0.21832559,
          1.3705248,
          0.3727429,
          0.46251935,
          -0.21085492,
          0.6857647,
          -0.011842211,
          0.55836713,
          -0.18112552,
          0.3333866,
          0.5471683,
          0.35237736,
          -0.24554835,
          0.7803807,
          0.21528053,
          0.4567736,
          0.11881911,
          0.040730324,
          1.1715449,
          0.11587671,
          -0.041882586,
          0.13890682,
          0.3767822,
          0.3714824,
          0.18741526,
          0.30350396,
          0.2759748,
          0.40927133,
          0.25326553,
          0.048047557,
          0.18260877
         ],
         "yaxis": "y"
        },
        {
         "customdata": [
          [
           5.1
          ],
          [
           5.7
          ],
          [
           5.6
          ],
          [
           6
          ],
          [
           6.1
          ],
          [
           5
          ],
          [
           4.9
          ],
          [
           4.9
          ],
          [
           5.7
          ],
          [
           5.5
          ],
          [
           5.9
          ],
          [
           5.7
          ],
          [
           5.7
          ],
          [
           5
          ],
          [
           5.6
          ],
          [
           5.7
          ],
          [
           5.5
          ],
          [
           5.6
          ],
          [
           5.5
          ],
          [
           5.8
          ],
          [
           5.4
          ],
          [
           5.2
          ],
          [
           5.6
          ],
          [
           5.6
          ],
          [
           5.5
          ],
          [
           5.5
          ],
          [
           5.8
          ],
          [
           5.8
          ]
         ],
         "hovertemplate": "Cluster=Cluster 2<br>PCA1=%{x}<br>PCA2=%{y}<br>Feature=%{customdata[0]}<extra></extra>",
         "legendgroup": "Cluster 2",
         "marker": {
          "color": "#00cc96",
          "opacity": 0.5,
          "symbol": "circle"
         },
         "mode": "markers",
         "name": "Cluster 2",
         "orientation": "v",
         "showlegend": true,
         "textposition": "top center",
         "type": "scatter",
         "x": [
          -0.90846336,
          0.29780763,
          -0.17486432,
          0.26233533,
          0.35678616,
          -0.51108617,
          0.5193837,
          -0.75146693,
          0.6404367,
          0.18096715,
          0.51109785,
          0.33112663,
          0.3752379,
          -0.7070813,
          0.043246325,
          -0.30733514,
          -0.07034301,
          0.3555328,
          -0.19188455,
          0.1349949,
          0.58727497,
          -0.010189961,
          0.65959287,
          0.24519499,
          0.16451335,
          0.46303108,
          0.22887892,
          0.23454036
         ],
         "xaxis": "x",
         "y": [
          -0.7515691,
          -0.3470168,
          -0.25181565,
          -0.5478934,
          -0.066823915,
          -1.2624925,
          -1.1913521,
          -1.0011078,
          -0.41732383,
          -0.8256043,
          -0.10228406,
          -0.21118031,
          -0.29162216,
          -1.0084252,
          -0.58148974,
          -0.3650869,
          -0.70253813,
          -0.5032187,
          -0.6774908,
          -0.31170958,
          -0.48328438,
          -0.7205752,
          -0.3519765,
          -0.2667282,
          -0.67966175,
          -0.6695269,
          -0.4022577,
          -0.33192173
         ],
         "yaxis": "y"
        },
        {
         "customdata": [
          [
           6.1
          ],
          [
           6.2
          ],
          [
           6.3
          ],
          [
           6.3
          ],
          [
           6.1
          ],
          [
           5.6
          ],
          [
           6
          ],
          [
           6.3
          ],
          [
           6.5
          ],
          [
           5.8
          ],
          [
           6.4
          ],
          [
           5.8
          ],
          [
           7
          ],
          [
           6.4
          ],
          [
           6.9
          ],
          [
           6.5
          ],
          [
           6.3
          ],
          [
           6.6
          ],
          [
           6.1
          ],
          [
           6.7
          ],
          [
           6.2
          ],
          [
           5.9
          ],
          [
           6.3
          ],
          [
           6.1
          ],
          [
           6
          ],
          [
           6.6
          ],
          [
           6.7
          ],
          [
           6
          ],
          [
           6
          ],
          [
           6
          ],
          [
           6.7
          ],
          [
           6.3
          ],
          [
           6.1
          ],
          [
           6.2
          ],
          [
           5.8
          ],
          [
           6.5
          ],
          [
           6.4
          ],
          [
           5.7
          ],
          [
           6.8
          ],
          [
           5.9
          ]
         ],
         "hovertemplate": "Cluster=Cluster 3<br>PCA1=%{x}<br>PCA2=%{y}<br>Feature=%{customdata[0]}<extra></extra>",
         "legendgroup": "Cluster 3",
         "marker": {
          "color": "#ab63fa",
          "opacity": 0.5,
          "symbol": "circle"
         },
         "mode": "markers",
         "name": "Cluster 3",
         "orientation": "v",
         "showlegend": true,
         "textposition": "top center",
         "type": "scatter",
         "x": [
          1.2906694,
          1.257625,
          1.387668,
          1.4431024,
          1.77964,
          1.1980975,
          1.1688535,
          1.5256634,
          1.7640456,
          1.4140723,
          0.7140079,
          1.5852677,
          1.2847939,
          0.9324105,
          1.4640607,
          1.087134,
          1.0952233,
          1.0432972,
          0.9840441,
          0.92757255,
          0.94236135,
          1.1162409,
          1.2964685,
          0.9205023,
          1.2983297,
          0.8996404,
          1.5573958,
          0.81245536,
          1.3787369,
          0.80720544,
          1.2204283,
          0.8128676,
          0.8901601,
          0.64168996,
          1.4140723,
          1.6619345,
          1.8023405,
          1.3445944,
          1.3310412,
          1.3896661
         ],
         "xaxis": "x",
         "y": [
          -0.11642536,
          -0.17913727,
          -0.2040309,
          -0.14380121,
          -0.501465,
          -0.6055794,
          -0.1645026,
          -0.37502086,
          0.078519285,
          -0.5749251,
          0.15037937,
          -0.53930724,
          0.6854396,
          0.31919837,
          0.50419,
          0.07539044,
          0.28389147,
          0.22895707,
          -0.1243604,
          0.4682363,
          -0.54182255,
          -0.08421399,
          -0.3275615,
          -0.18239048,
          -0.76101416,
          0.32961106,
          0.26739267,
          -0.16233158,
          -0.42120528,
          0.19505408,
          0.4080354,
          -0.37067905,
          -0.033812467,
          0.01907112,
          -0.5749251,
          0.2420386,
          -0.2161546,
          -0.7764159,
          0.24466972,
          -0.28288674
         ],
         "yaxis": "y"
        }
       ],
       "layout": {
        "height": 600,
        "legend": {
         "title": {
          "text": "Cluster"
         },
         "tracegroupgap": 0
        },
        "margin": {
         "t": 60
        },
        "plot_bgcolor": "rgb(240,240,240)",
        "template": {
         "data": {
          "bar": [
           {
            "error_x": {
             "color": "#2a3f5f"
            },
            "error_y": {
             "color": "#2a3f5f"
            },
            "marker": {
             "line": {
              "color": "#E5ECF6",
              "width": 0.5
             },
             "pattern": {
              "fillmode": "overlay",
              "size": 10,
              "solidity": 0.2
             }
            },
            "type": "bar"
           }
          ],
          "barpolar": [
           {
            "marker": {
             "line": {
              "color": "#E5ECF6",
              "width": 0.5
             },
             "pattern": {
              "fillmode": "overlay",
              "size": 10,
              "solidity": 0.2
             }
            },
            "type": "barpolar"
           }
          ],
          "carpet": [
           {
            "aaxis": {
             "endlinecolor": "#2a3f5f",
             "gridcolor": "white",
             "linecolor": "white",
             "minorgridcolor": "white",
             "startlinecolor": "#2a3f5f"
            },
            "baxis": {
             "endlinecolor": "#2a3f5f",
             "gridcolor": "white",
             "linecolor": "white",
             "minorgridcolor": "white",
             "startlinecolor": "#2a3f5f"
            },
            "type": "carpet"
           }
          ],
          "choropleth": [
           {
            "colorbar": {
             "outlinewidth": 0,
             "ticks": ""
            },
            "type": "choropleth"
           }
          ],
          "contour": [
           {
            "colorbar": {
             "outlinewidth": 0,
             "ticks": ""
            },
            "colorscale": [
             [
              0,
              "#0d0887"
             ],
             [
              0.1111111111111111,
              "#46039f"
             ],
             [
              0.2222222222222222,
              "#7201a8"
             ],
             [
              0.3333333333333333,
              "#9c179e"
             ],
             [
              0.4444444444444444,
              "#bd3786"
             ],
             [
              0.5555555555555556,
              "#d8576b"
             ],
             [
              0.6666666666666666,
              "#ed7953"
             ],
             [
              0.7777777777777778,
              "#fb9f3a"
             ],
             [
              0.8888888888888888,
              "#fdca26"
             ],
             [
              1,
              "#f0f921"
             ]
            ],
            "type": "contour"
           }
          ],
          "contourcarpet": [
           {
            "colorbar": {
             "outlinewidth": 0,
             "ticks": ""
            },
            "type": "contourcarpet"
           }
          ],
          "heatmap": [
           {
            "colorbar": {
             "outlinewidth": 0,
             "ticks": ""
            },
            "colorscale": [
             [
              0,
              "#0d0887"
             ],
             [
              0.1111111111111111,
              "#46039f"
             ],
             [
              0.2222222222222222,
              "#7201a8"
             ],
             [
              0.3333333333333333,
              "#9c179e"
             ],
             [
              0.4444444444444444,
              "#bd3786"
             ],
             [
              0.5555555555555556,
              "#d8576b"
             ],
             [
              0.6666666666666666,
              "#ed7953"
             ],
             [
              0.7777777777777778,
              "#fb9f3a"
             ],
             [
              0.8888888888888888,
              "#fdca26"
             ],
             [
              1,
              "#f0f921"
             ]
            ],
            "type": "heatmap"
           }
          ],
          "heatmapgl": [
           {
            "colorbar": {
             "outlinewidth": 0,
             "ticks": ""
            },
            "colorscale": [
             [
              0,
              "#0d0887"
             ],
             [
              0.1111111111111111,
              "#46039f"
             ],
             [
              0.2222222222222222,
              "#7201a8"
             ],
             [
              0.3333333333333333,
              "#9c179e"
             ],
             [
              0.4444444444444444,
              "#bd3786"
             ],
             [
              0.5555555555555556,
              "#d8576b"
             ],
             [
              0.6666666666666666,
              "#ed7953"
             ],
             [
              0.7777777777777778,
              "#fb9f3a"
             ],
             [
              0.8888888888888888,
              "#fdca26"
             ],
             [
              1,
              "#f0f921"
             ]
            ],
            "type": "heatmapgl"
           }
          ],
          "histogram": [
           {
            "marker": {
             "pattern": {
              "fillmode": "overlay",
              "size": 10,
              "solidity": 0.2
             }
            },
            "type": "histogram"
           }
          ],
          "histogram2d": [
           {
            "colorbar": {
             "outlinewidth": 0,
             "ticks": ""
            },
            "colorscale": [
             [
              0,
              "#0d0887"
             ],
             [
              0.1111111111111111,
              "#46039f"
             ],
             [
              0.2222222222222222,
              "#7201a8"
             ],
             [
              0.3333333333333333,
              "#9c179e"
             ],
             [
              0.4444444444444444,
              "#bd3786"
             ],
             [
              0.5555555555555556,
              "#d8576b"
             ],
             [
              0.6666666666666666,
              "#ed7953"
             ],
             [
              0.7777777777777778,
              "#fb9f3a"
             ],
             [
              0.8888888888888888,
              "#fdca26"
             ],
             [
              1,
              "#f0f921"
             ]
            ],
            "type": "histogram2d"
           }
          ],
          "histogram2dcontour": [
           {
            "colorbar": {
             "outlinewidth": 0,
             "ticks": ""
            },
            "colorscale": [
             [
              0,
              "#0d0887"
             ],
             [
              0.1111111111111111,
              "#46039f"
             ],
             [
              0.2222222222222222,
              "#7201a8"
             ],
             [
              0.3333333333333333,
              "#9c179e"
             ],
             [
              0.4444444444444444,
              "#bd3786"
             ],
             [
              0.5555555555555556,
              "#d8576b"
             ],
             [
              0.6666666666666666,
              "#ed7953"
             ],
             [
              0.7777777777777778,
              "#fb9f3a"
             ],
             [
              0.8888888888888888,
              "#fdca26"
             ],
             [
              1,
              "#f0f921"
             ]
            ],
            "type": "histogram2dcontour"
           }
          ],
          "mesh3d": [
           {
            "colorbar": {
             "outlinewidth": 0,
             "ticks": ""
            },
            "type": "mesh3d"
           }
          ],
          "parcoords": [
           {
            "line": {
             "colorbar": {
              "outlinewidth": 0,
              "ticks": ""
             }
            },
            "type": "parcoords"
           }
          ],
          "pie": [
           {
            "automargin": true,
            "type": "pie"
           }
          ],
          "scatter": [
           {
            "marker": {
             "colorbar": {
              "outlinewidth": 0,
              "ticks": ""
             }
            },
            "type": "scatter"
           }
          ],
          "scatter3d": [
           {
            "line": {
             "colorbar": {
              "outlinewidth": 0,
              "ticks": ""
             }
            },
            "marker": {
             "colorbar": {
              "outlinewidth": 0,
              "ticks": ""
             }
            },
            "type": "scatter3d"
           }
          ],
          "scattercarpet": [
           {
            "marker": {
             "colorbar": {
              "outlinewidth": 0,
              "ticks": ""
             }
            },
            "type": "scattercarpet"
           }
          ],
          "scattergeo": [
           {
            "marker": {
             "colorbar": {
              "outlinewidth": 0,
              "ticks": ""
             }
            },
            "type": "scattergeo"
           }
          ],
          "scattergl": [
           {
            "marker": {
             "colorbar": {
              "outlinewidth": 0,
              "ticks": ""
             }
            },
            "type": "scattergl"
           }
          ],
          "scattermapbox": [
           {
            "marker": {
             "colorbar": {
              "outlinewidth": 0,
              "ticks": ""
             }
            },
            "type": "scattermapbox"
           }
          ],
          "scatterpolar": [
           {
            "marker": {
             "colorbar": {
              "outlinewidth": 0,
              "ticks": ""
             }
            },
            "type": "scatterpolar"
           }
          ],
          "scatterpolargl": [
           {
            "marker": {
             "colorbar": {
              "outlinewidth": 0,
              "ticks": ""
             }
            },
            "type": "scatterpolargl"
           }
          ],
          "scatterternary": [
           {
            "marker": {
             "colorbar": {
              "outlinewidth": 0,
              "ticks": ""
             }
            },
            "type": "scatterternary"
           }
          ],
          "surface": [
           {
            "colorbar": {
             "outlinewidth": 0,
             "ticks": ""
            },
            "colorscale": [
             [
              0,
              "#0d0887"
             ],
             [
              0.1111111111111111,
              "#46039f"
             ],
             [
              0.2222222222222222,
              "#7201a8"
             ],
             [
              0.3333333333333333,
              "#9c179e"
             ],
             [
              0.4444444444444444,
              "#bd3786"
             ],
             [
              0.5555555555555556,
              "#d8576b"
             ],
             [
              0.6666666666666666,
              "#ed7953"
             ],
             [
              0.7777777777777778,
              "#fb9f3a"
             ],
             [
              0.8888888888888888,
              "#fdca26"
             ],
             [
              1,
              "#f0f921"
             ]
            ],
            "type": "surface"
           }
          ],
          "table": [
           {
            "cells": {
             "fill": {
              "color": "#EBF0F8"
             },
             "line": {
              "color": "white"
             }
            },
            "header": {
             "fill": {
              "color": "#C8D4E3"
             },
             "line": {
              "color": "white"
             }
            },
            "type": "table"
           }
          ]
         },
         "layout": {
          "annotationdefaults": {
           "arrowcolor": "#2a3f5f",
           "arrowhead": 0,
           "arrowwidth": 1
          },
          "autotypenumbers": "strict",
          "coloraxis": {
           "colorbar": {
            "outlinewidth": 0,
            "ticks": ""
           }
          },
          "colorscale": {
           "diverging": [
            [
             0,
             "#8e0152"
            ],
            [
             0.1,
             "#c51b7d"
            ],
            [
             0.2,
             "#de77ae"
            ],
            [
             0.3,
             "#f1b6da"
            ],
            [
             0.4,
             "#fde0ef"
            ],
            [
             0.5,
             "#f7f7f7"
            ],
            [
             0.6,
             "#e6f5d0"
            ],
            [
             0.7,
             "#b8e186"
            ],
            [
             0.8,
             "#7fbc41"
            ],
            [
             0.9,
             "#4d9221"
            ],
            [
             1,
             "#276419"
            ]
           ],
           "sequential": [
            [
             0,
             "#0d0887"
            ],
            [
             0.1111111111111111,
             "#46039f"
            ],
            [
             0.2222222222222222,
             "#7201a8"
            ],
            [
             0.3333333333333333,
             "#9c179e"
            ],
            [
             0.4444444444444444,
             "#bd3786"
            ],
            [
             0.5555555555555556,
             "#d8576b"
            ],
            [
             0.6666666666666666,
             "#ed7953"
            ],
            [
             0.7777777777777778,
             "#fb9f3a"
            ],
            [
             0.8888888888888888,
             "#fdca26"
            ],
            [
             1,
             "#f0f921"
            ]
           ],
           "sequentialminus": [
            [
             0,
             "#0d0887"
            ],
            [
             0.1111111111111111,
             "#46039f"
            ],
            [
             0.2222222222222222,
             "#7201a8"
            ],
            [
             0.3333333333333333,
             "#9c179e"
            ],
            [
             0.4444444444444444,
             "#bd3786"
            ],
            [
             0.5555555555555556,
             "#d8576b"
            ],
            [
             0.6666666666666666,
             "#ed7953"
            ],
            [
             0.7777777777777778,
             "#fb9f3a"
            ],
            [
             0.8888888888888888,
             "#fdca26"
            ],
            [
             1,
             "#f0f921"
            ]
           ]
          },
          "colorway": [
           "#636efa",
           "#EF553B",
           "#00cc96",
           "#ab63fa",
           "#FFA15A",
           "#19d3f3",
           "#FF6692",
           "#B6E880",
           "#FF97FF",
           "#FECB52"
          ],
          "font": {
           "color": "#2a3f5f"
          },
          "geo": {
           "bgcolor": "white",
           "lakecolor": "white",
           "landcolor": "#E5ECF6",
           "showlakes": true,
           "showland": true,
           "subunitcolor": "white"
          },
          "hoverlabel": {
           "align": "left"
          },
          "hovermode": "closest",
          "mapbox": {
           "style": "light"
          },
          "paper_bgcolor": "white",
          "plot_bgcolor": "#E5ECF6",
          "polar": {
           "angularaxis": {
            "gridcolor": "white",
            "linecolor": "white",
            "ticks": ""
           },
           "bgcolor": "#E5ECF6",
           "radialaxis": {
            "gridcolor": "white",
            "linecolor": "white",
            "ticks": ""
           }
          },
          "scene": {
           "xaxis": {
            "backgroundcolor": "#E5ECF6",
            "gridcolor": "white",
            "gridwidth": 2,
            "linecolor": "white",
            "showbackground": true,
            "ticks": "",
            "zerolinecolor": "white"
           },
           "yaxis": {
            "backgroundcolor": "#E5ECF6",
            "gridcolor": "white",
            "gridwidth": 2,
            "linecolor": "white",
            "showbackground": true,
            "ticks": "",
            "zerolinecolor": "white"
           },
           "zaxis": {
            "backgroundcolor": "#E5ECF6",
            "gridcolor": "white",
            "gridwidth": 2,
            "linecolor": "white",
            "showbackground": true,
            "ticks": "",
            "zerolinecolor": "white"
           }
          },
          "shapedefaults": {
           "line": {
            "color": "#2a3f5f"
           }
          },
          "ternary": {
           "aaxis": {
            "gridcolor": "white",
            "linecolor": "white",
            "ticks": ""
           },
           "baxis": {
            "gridcolor": "white",
            "linecolor": "white",
            "ticks": ""
           },
           "bgcolor": "#E5ECF6",
           "caxis": {
            "gridcolor": "white",
            "linecolor": "white",
            "ticks": ""
           }
          },
          "title": {
           "x": 0.05
          },
          "xaxis": {
           "automargin": true,
           "gridcolor": "white",
           "linecolor": "white",
           "ticks": "",
           "title": {
            "standoff": 15
           },
           "zerolinecolor": "white",
           "zerolinewidth": 2
          },
          "yaxis": {
           "automargin": true,
           "gridcolor": "white",
           "linecolor": "white",
           "ticks": "",
           "title": {
            "standoff": 15
           },
           "zerolinecolor": "white",
           "zerolinewidth": 2
          }
         }
        },
        "title": {
         "text": "2D Cluster PCA Plot"
        },
        "xaxis": {
         "anchor": "y",
         "domain": [
          0,
          1
         ],
         "title": {
          "text": "PCA1"
         }
        },
        "yaxis": {
         "anchor": "x",
         "domain": [
          0,
          1
         ],
         "title": {
          "text": "PCA2"
         }
        }
       }
      }
     },
     "metadata": {},
     "output_type": "display_data"
    }
   ],
   "source": [
    "#Plotting 2d scatter plot with PCA method\n",
    "plot_model(kmeans, plot=\"cluster\")"
   ]
  },
  {
   "cell_type": "code",
   "execution_count": 11,
   "metadata": {},
   "outputs": [
    {
     "data": {
      "application/vnd.plotly.v1+json": {
       "config": {
        "plotlyServerURL": "https://plot.ly"
       },
       "data": [
        {
         "customdata": [
          [
           5.1
          ],
          [
           5.2
          ],
          [
           5.2
          ],
          [
           4.7
          ],
          [
           4.8
          ],
          [
           5.4
          ],
          [
           5.2
          ],
          [
           5.5
          ],
          [
           4.9
          ],
          [
           5
          ],
          [
           4.9
          ],
          [
           5
          ],
          [
           4.4
          ],
          [
           5
          ],
          [
           4.5
          ],
          [
           4.4
          ],
          [
           5
          ],
          [
           5.1
          ],
          [
           4.8
          ],
          [
           5.1
          ],
          [
           4.6
          ],
          [
           5.3
          ],
          [
           5
          ],
          [
           5.1
          ],
          [
           5
          ],
          [
           5.5
          ],
          [
           5.1
          ],
          [
           4.8
          ],
          [
           4.7
          ],
          [
           4.6
          ],
          [
           5
          ],
          [
           5.4
          ],
          [
           4.6
          ],
          [
           5
          ],
          [
           4.4
          ],
          [
           4.9
          ],
          [
           5.4
          ],
          [
           4.8
          ],
          [
           4.9
          ],
          [
           4.3
          ],
          [
           4.8
          ],
          [
           5.1
          ],
          [
           5.4
          ],
          [
           5.1
          ],
          [
           5.7
          ],
          [
           4.6
          ],
          [
           5.4
          ],
          [
           5.7
          ],
          [
           5.8
          ],
          [
           5.1
          ]
         ],
         "hovertemplate": "Cluster=Cluster 0<br>0=%{x}<br>1=%{y}<br>2=%{z}<br>Feature=%{customdata[0]}<extra></extra>",
         "legendgroup": "Cluster 0",
         "marker": {
          "color": "#636efa",
          "opacity": 0.7,
          "symbol": "circle"
         },
         "mode": "markers",
         "name": "Cluster 0",
         "scene": "scene",
         "showlegend": true,
         "type": "scatter3d",
         "x": [
          -78.374855,
          -114.11789,
          -99.19765,
          -55.586964,
          -66.3538,
          -33.202152,
          -42.174927,
          -138.9394,
          171.07195,
          -18.438557,
          -82.37704,
          -77.114334,
          -116.538055,
          -14.743995,
          -96.01717,
          -31.464987,
          -24.866535,
          -79.33827,
          -111.06132,
          -38.819504,
          -120.01491,
          -68.256836,
          -92.6139,
          -41.012985,
          -120.15863,
          -27.019016,
          -141.0383,
          -53.265347,
          186.42151,
          -75.47847,
          -112.905495,
          31.570658,
          -17.951014,
          -52.470814,
          -74.14631,
          -99.618195,
          -83.129585,
          -56.09689,
          -75.10703,
          -50.6426,
          -99.85122,
          -101.09386,
          -58.113815,
          -84.2359,
          -130.89906,
          10.335179,
          -104.95586,
          -146.74796,
          -71.45055,
          -75.65276
         ],
         "y": [
          -67.11118,
          5.9044747,
          -26.833323,
          -105.66451,
          -62.14454,
          -124.72195,
          -9.061276,
          38.564117,
          -11.7654705,
          -114.826485,
          -52.59414,
          11.476556,
          -128.45177,
          -62.72752,
          -98.70658,
          -115.247444,
          -56.62231,
          56.131523,
          -38.671516,
          38.640564,
          -83.98287,
          63.70187,
          -66.62228,
          -85.19774,
          -104.695175,
          4.2350426,
          -48.40845,
          -30.949516,
          2.972409,
          -98.25856,
          -31.371267,
          -65.7356,
          -81.02855,
          -46.358803,
          -139.21367,
          -78.936806,
          14.3523035,
          -73.3646,
          -124.569046,
          -154.7045,
          -124.673515,
          34.0154,
          23.711761,
          -29.866167,
          27.26105,
          -120.82367,
          81.59865,
          59.624092,
          -22.300045,
          -15.602621
         ],
         "z": [
          108.40257,
          70.62957,
          47.136574,
          15.469048,
          -0.12947151,
          -87.756256,
          126.48178,
          30.57874,
          40.640232,
          53.418434,
          -39.38676,
          40.89944,
          -32.826866,
          60.234436,
          -72.4897,
          -28.435219,
          129.96141,
          160.13046,
          -6.1320305,
          135.67691,
          -18.23314,
          112.50133,
          67.19521,
          91.642235,
          53.594933,
          170.97792,
          43.688004,
          27.428879,
          -23.917713,
          -22.053967,
          98.54227,
          127.45764,
          5.712332,
          76.27723,
          -42.621918,
          22.768461,
          135.24335,
          42.8717,
          52.97862,
          -5.015096,
          12.403061,
          98.90718,
          89.35337,
          132.69186,
          136.3354,
          3.2051606,
          88.544334,
          71.9067,
          179.52124,
          83.97658
         ]
        },
        {
         "customdata": [
          [
           7.1
          ],
          [
           6.4
          ],
          [
           7.9
          ],
          [
           7.4
          ],
          [
           7.2
          ],
          [
           6.4
          ],
          [
           7.7
          ],
          [
           6.3
          ],
          [
           7.2
          ],
          [
           6.3
          ],
          [
           6.7
          ],
          [
           7.6
          ],
          [
           7.3
          ],
          [
           6.7
          ],
          [
           7.2
          ],
          [
           6.8
          ],
          [
           7.7
          ],
          [
           6.4
          ],
          [
           6.5
          ],
          [
           7.7
          ],
          [
           6.2
          ],
          [
           6.5
          ],
          [
           6.3
          ],
          [
           6.9
          ],
          [
           6.9
          ],
          [
           6.7
          ],
          [
           6.7
          ],
          [
           6.8
          ],
          [
           6.9
          ],
          [
           7.7
          ],
          [
           6.4
          ],
          [
           6.7
          ]
         ],
         "hovertemplate": "Cluster=Cluster 1<br>0=%{x}<br>1=%{y}<br>2=%{z}<br>Feature=%{customdata[0]}<extra></extra>",
         "legendgroup": "Cluster 1",
         "marker": {
          "color": "#EF553B",
          "opacity": 0.7,
          "symbol": "circle"
         },
         "mode": "markers",
         "name": "Cluster 1",
         "scene": "scene",
         "showlegend": true,
         "type": "scatter3d",
         "x": [
          -35.12746,
          37.353718,
          -98.22718,
          -19.631948,
          -49.966316,
          2.4127297,
          8.417119,
          24.090708,
          -57.894184,
          -12.939059,
          59.503513,
          -5.17889,
          -54.67126,
          -14.12968,
          -62.587627,
          -171.59868,
          -15.725898,
          43.99009,
          12.388122,
          35.140694,
          61.58198,
          -3.0943887,
          88.83272,
          104.8389,
          -13.124641,
          70.49168,
          -92.72019,
          31.05042,
          63.881973,
          -22.404322,
          19.453644,
          -20.702768
         ],
         "y": [
          56.973133,
          81.33857,
          82.22594,
          112.92574,
          79.09258,
          91.56654,
          -17.925785,
          61.416706,
          117.967865,
          48.62196,
          -32.720566,
          25.849293,
          116.67917,
          -2.2596972,
          89.89596,
          -9.68874,
          1.942971,
          24.518843,
          55.687473,
          3.80905,
          2.3640578,
          85.465294,
          3.1469154,
          62.0741,
          201.0576,
          49.5832,
          40.611305,
          -37.594574,
          12.831539,
          -38.695374,
          24.24599,
          119.19908
         ],
         "z": [
          52.987568,
          72.43226,
          9.265046,
          -22.121073,
          -19.24502,
          23.43568,
          91.52961,
          122.65495,
          0.3381882,
          8.978771,
          82.65318,
          88.69451,
          -47.380947,
          5.2550683,
          40.188362,
          75.51681,
          55.126015,
          79.90155,
          43.206528,
          -198.61755,
          50.192123,
          79.86729,
          82.27039,
          74.7336,
          137.38188,
          103.35788,
          -31.297384,
          45.16615,
          127.19593,
          -33.009525,
          25.30316,
          54.618317
         ]
        },
        {
         "customdata": [
          [
           5.1
          ],
          [
           5.7
          ],
          [
           5.6
          ],
          [
           6
          ],
          [
           6.1
          ],
          [
           5
          ],
          [
           4.9
          ],
          [
           4.9
          ],
          [
           5.7
          ],
          [
           5.5
          ],
          [
           5.9
          ],
          [
           5.7
          ],
          [
           5.7
          ],
          [
           5
          ],
          [
           5.6
          ],
          [
           5.7
          ],
          [
           5.5
          ],
          [
           5.6
          ],
          [
           5.5
          ],
          [
           5.8
          ],
          [
           5.4
          ],
          [
           5.2
          ],
          [
           5.6
          ],
          [
           5.6
          ],
          [
           5.5
          ],
          [
           5.5
          ],
          [
           5.8
          ],
          [
           5.8
          ]
         ],
         "hovertemplate": "Cluster=Cluster 2<br>0=%{x}<br>1=%{y}<br>2=%{z}<br>Feature=%{customdata[0]}<extra></extra>",
         "legendgroup": "Cluster 2",
         "marker": {
          "color": "#00cc96",
          "opacity": 0.7,
          "symbol": "circle"
         },
         "mode": "markers",
         "name": "Cluster 2",
         "scene": "scene",
         "showlegend": true,
         "type": "scatter3d",
         "x": [
          150.29382,
          -88.287544,
          112.509026,
          124.51887,
          122.719406,
          140.60796,
          100.35519,
          120.645454,
          74.78035,
          79.131485,
          45.88846,
          75.20461,
          66.865746,
          -62.96426,
          81.13712,
          -98.49528,
          100.834145,
          76.702225,
          107.067116,
          150.97807,
          22.89562,
          127.90952,
          -105.673355,
          124.62622,
          86.05484,
          52.753242,
          109.58649,
          92.96761
         ],
         "y": [
          -47.985924,
          22.729864,
          127.00545,
          -2.1624155,
          79.980865,
          -74.090515,
          -129.71057,
          -112.36634,
          3.5993586,
          -79.764435,
          -37.210926,
          89.91604,
          119.2095,
          -138.9242,
          -64.244934,
          -33.783985,
          -47.060352,
          87.7457,
          -41.671158,
          -33.823902,
          93.58815,
          -86.18751,
          98.05551,
          78.77053,
          -85.86943,
          -103.55668,
          39.10888,
          46.103817
         ],
         "z": [
          -126.274864,
          -93.545876,
          -70.50835,
          -102.59375,
          -124.130775,
          -29.562244,
          -90.70013,
          -39.280834,
          -146.52544,
          -89.16946,
          -148.20236,
          -114.17897,
          112.23307,
          122.51016,
          -44.46955,
          -111.77058,
          -112.005394,
          -68.36049,
          -69.241425,
          -72.29368,
          -123.71502,
          -86.53595,
          -67.14754,
          -73.97221,
          -6.5433683,
          -55.94566,
          -97.6201,
          -139.16542
         ]
        },
        {
         "customdata": [
          [
           6.1
          ],
          [
           6.2
          ],
          [
           6.3
          ],
          [
           6.3
          ],
          [
           6.1
          ],
          [
           5.6
          ],
          [
           6
          ],
          [
           6.3
          ],
          [
           6.5
          ],
          [
           5.8
          ],
          [
           6.4
          ],
          [
           5.8
          ],
          [
           7
          ],
          [
           6.4
          ],
          [
           6.9
          ],
          [
           6.5
          ],
          [
           6.3
          ],
          [
           6.6
          ],
          [
           6.1
          ],
          [
           6.7
          ],
          [
           6.2
          ],
          [
           5.9
          ],
          [
           6.3
          ],
          [
           6.1
          ],
          [
           6
          ],
          [
           6.6
          ],
          [
           6.7
          ],
          [
           6
          ],
          [
           6
          ],
          [
           6
          ],
          [
           6.7
          ],
          [
           6.3
          ],
          [
           6.1
          ],
          [
           6.2
          ],
          [
           5.8
          ],
          [
           6.5
          ],
          [
           6.4
          ],
          [
           5.7
          ],
          [
           6.8
          ],
          [
           5.9
          ]
         ],
         "hovertemplate": "Cluster=Cluster 3<br>0=%{x}<br>1=%{y}<br>2=%{z}<br>Feature=%{customdata[0]}<extra></extra>",
         "legendgroup": "Cluster 3",
         "marker": {
          "color": "#ab63fa",
          "opacity": 0.7,
          "symbol": "circle"
         },
         "mode": "markers",
         "name": "Cluster 3",
         "scene": "scene",
         "showlegend": true,
         "type": "scatter3d",
         "x": [
          59.438087,
          41.891785,
          29.014336,
          18.047136,
          -47.416775,
          127.74713,
          89.74785,
          64.58121,
          47.20876,
          107.190346,
          -12.318985,
          110.88636,
          -0.12852935,
          -19.90008,
          36.022335,
          18.361197,
          -15.210156,
          -16.171537,
          20.002377,
          98.6821,
          48.839035,
          110.67164,
          25.65573,
          24.330736,
          68.090324,
          -14.926531,
          -22.206543,
          59.896397,
          60.855453,
          -41.649586,
          75.33827,
          39.27296,
          46.40131,
          -46.620567,
          132.026,
          61.21905,
          22.352528,
          111.42218,
          -39.95301,
          90.37471
         ],
         "y": [
          23.265713,
          -20.713264,
          10.061206,
          42.58804,
          25.77773,
          -16.659803,
          49.92642,
          -10.03046,
          76.6287,
          47.428185,
          20.68448,
          -33.090904,
          -71.10228,
          33.514603,
          144.52873,
          111.173775,
          68.27292,
          -15.7061405,
          14.805698,
          118.19426,
          47.626465,
          23.11219,
          -19.546053,
          10.51557,
          23.240892,
          -26.924635,
          18.252312,
          0.45378214,
          49.079525,
          72.80324,
          122.10216,
          -38.667538,
          119.11632,
          8.231484,
          26.386948,
          48.595757,
          62.573284,
          8.823531,
          -51.03675,
          0.7596739
         ],
         "z": [
          0.91295487,
          -5.705461,
          -26.69206,
          -46.4497,
          -7.2811995,
          -11.628865,
          7.7735386,
          -38.58808,
          23.427826,
          -30.64972,
          -149.57979,
          28.22892,
          -96.64646,
          -101.53223,
          44.21472,
          -68.61793,
          -77.97964,
          -93.24396,
          -85.917984,
          2.3944132,
          -98.068375,
          33.112274,
          -55.73071,
          -126.019066,
          -64.86412,
          -138.03851,
          -48.743343,
          -104.843285,
          -33.207718,
          -115.85825,
          41.61324,
          -95.70013,
          -29.714436,
          -129.14725,
          -7.0301814,
          48.1916,
          -7.572616,
          -41.577415,
          -100.07905,
          1.753301
         ]
        }
       ],
       "layout": {
        "height": 800,
        "legend": {
         "title": {
          "text": "Cluster"
         },
         "tracegroupgap": 0
        },
        "scene": {
         "domain": {
          "x": [
           0,
           1
          ],
          "y": [
           0,
           1
          ]
         },
         "xaxis": {
          "title": {
           "text": "0"
          }
         },
         "yaxis": {
          "title": {
           "text": "1"
          }
         },
         "zaxis": {
          "title": {
           "text": "2"
          }
         }
        },
        "template": {
         "data": {
          "bar": [
           {
            "error_x": {
             "color": "#2a3f5f"
            },
            "error_y": {
             "color": "#2a3f5f"
            },
            "marker": {
             "line": {
              "color": "#E5ECF6",
              "width": 0.5
             },
             "pattern": {
              "fillmode": "overlay",
              "size": 10,
              "solidity": 0.2
             }
            },
            "type": "bar"
           }
          ],
          "barpolar": [
           {
            "marker": {
             "line": {
              "color": "#E5ECF6",
              "width": 0.5
             },
             "pattern": {
              "fillmode": "overlay",
              "size": 10,
              "solidity": 0.2
             }
            },
            "type": "barpolar"
           }
          ],
          "carpet": [
           {
            "aaxis": {
             "endlinecolor": "#2a3f5f",
             "gridcolor": "white",
             "linecolor": "white",
             "minorgridcolor": "white",
             "startlinecolor": "#2a3f5f"
            },
            "baxis": {
             "endlinecolor": "#2a3f5f",
             "gridcolor": "white",
             "linecolor": "white",
             "minorgridcolor": "white",
             "startlinecolor": "#2a3f5f"
            },
            "type": "carpet"
           }
          ],
          "choropleth": [
           {
            "colorbar": {
             "outlinewidth": 0,
             "ticks": ""
            },
            "type": "choropleth"
           }
          ],
          "contour": [
           {
            "colorbar": {
             "outlinewidth": 0,
             "ticks": ""
            },
            "colorscale": [
             [
              0,
              "#0d0887"
             ],
             [
              0.1111111111111111,
              "#46039f"
             ],
             [
              0.2222222222222222,
              "#7201a8"
             ],
             [
              0.3333333333333333,
              "#9c179e"
             ],
             [
              0.4444444444444444,
              "#bd3786"
             ],
             [
              0.5555555555555556,
              "#d8576b"
             ],
             [
              0.6666666666666666,
              "#ed7953"
             ],
             [
              0.7777777777777778,
              "#fb9f3a"
             ],
             [
              0.8888888888888888,
              "#fdca26"
             ],
             [
              1,
              "#f0f921"
             ]
            ],
            "type": "contour"
           }
          ],
          "contourcarpet": [
           {
            "colorbar": {
             "outlinewidth": 0,
             "ticks": ""
            },
            "type": "contourcarpet"
           }
          ],
          "heatmap": [
           {
            "colorbar": {
             "outlinewidth": 0,
             "ticks": ""
            },
            "colorscale": [
             [
              0,
              "#0d0887"
             ],
             [
              0.1111111111111111,
              "#46039f"
             ],
             [
              0.2222222222222222,
              "#7201a8"
             ],
             [
              0.3333333333333333,
              "#9c179e"
             ],
             [
              0.4444444444444444,
              "#bd3786"
             ],
             [
              0.5555555555555556,
              "#d8576b"
             ],
             [
              0.6666666666666666,
              "#ed7953"
             ],
             [
              0.7777777777777778,
              "#fb9f3a"
             ],
             [
              0.8888888888888888,
              "#fdca26"
             ],
             [
              1,
              "#f0f921"
             ]
            ],
            "type": "heatmap"
           }
          ],
          "heatmapgl": [
           {
            "colorbar": {
             "outlinewidth": 0,
             "ticks": ""
            },
            "colorscale": [
             [
              0,
              "#0d0887"
             ],
             [
              0.1111111111111111,
              "#46039f"
             ],
             [
              0.2222222222222222,
              "#7201a8"
             ],
             [
              0.3333333333333333,
              "#9c179e"
             ],
             [
              0.4444444444444444,
              "#bd3786"
             ],
             [
              0.5555555555555556,
              "#d8576b"
             ],
             [
              0.6666666666666666,
              "#ed7953"
             ],
             [
              0.7777777777777778,
              "#fb9f3a"
             ],
             [
              0.8888888888888888,
              "#fdca26"
             ],
             [
              1,
              "#f0f921"
             ]
            ],
            "type": "heatmapgl"
           }
          ],
          "histogram": [
           {
            "marker": {
             "pattern": {
              "fillmode": "overlay",
              "size": 10,
              "solidity": 0.2
             }
            },
            "type": "histogram"
           }
          ],
          "histogram2d": [
           {
            "colorbar": {
             "outlinewidth": 0,
             "ticks": ""
            },
            "colorscale": [
             [
              0,
              "#0d0887"
             ],
             [
              0.1111111111111111,
              "#46039f"
             ],
             [
              0.2222222222222222,
              "#7201a8"
             ],
             [
              0.3333333333333333,
              "#9c179e"
             ],
             [
              0.4444444444444444,
              "#bd3786"
             ],
             [
              0.5555555555555556,
              "#d8576b"
             ],
             [
              0.6666666666666666,
              "#ed7953"
             ],
             [
              0.7777777777777778,
              "#fb9f3a"
             ],
             [
              0.8888888888888888,
              "#fdca26"
             ],
             [
              1,
              "#f0f921"
             ]
            ],
            "type": "histogram2d"
           }
          ],
          "histogram2dcontour": [
           {
            "colorbar": {
             "outlinewidth": 0,
             "ticks": ""
            },
            "colorscale": [
             [
              0,
              "#0d0887"
             ],
             [
              0.1111111111111111,
              "#46039f"
             ],
             [
              0.2222222222222222,
              "#7201a8"
             ],
             [
              0.3333333333333333,
              "#9c179e"
             ],
             [
              0.4444444444444444,
              "#bd3786"
             ],
             [
              0.5555555555555556,
              "#d8576b"
             ],
             [
              0.6666666666666666,
              "#ed7953"
             ],
             [
              0.7777777777777778,
              "#fb9f3a"
             ],
             [
              0.8888888888888888,
              "#fdca26"
             ],
             [
              1,
              "#f0f921"
             ]
            ],
            "type": "histogram2dcontour"
           }
          ],
          "mesh3d": [
           {
            "colorbar": {
             "outlinewidth": 0,
             "ticks": ""
            },
            "type": "mesh3d"
           }
          ],
          "parcoords": [
           {
            "line": {
             "colorbar": {
              "outlinewidth": 0,
              "ticks": ""
             }
            },
            "type": "parcoords"
           }
          ],
          "pie": [
           {
            "automargin": true,
            "type": "pie"
           }
          ],
          "scatter": [
           {
            "marker": {
             "colorbar": {
              "outlinewidth": 0,
              "ticks": ""
             }
            },
            "type": "scatter"
           }
          ],
          "scatter3d": [
           {
            "line": {
             "colorbar": {
              "outlinewidth": 0,
              "ticks": ""
             }
            },
            "marker": {
             "colorbar": {
              "outlinewidth": 0,
              "ticks": ""
             }
            },
            "type": "scatter3d"
           }
          ],
          "scattercarpet": [
           {
            "marker": {
             "colorbar": {
              "outlinewidth": 0,
              "ticks": ""
             }
            },
            "type": "scattercarpet"
           }
          ],
          "scattergeo": [
           {
            "marker": {
             "colorbar": {
              "outlinewidth": 0,
              "ticks": ""
             }
            },
            "type": "scattergeo"
           }
          ],
          "scattergl": [
           {
            "marker": {
             "colorbar": {
              "outlinewidth": 0,
              "ticks": ""
             }
            },
            "type": "scattergl"
           }
          ],
          "scattermapbox": [
           {
            "marker": {
             "colorbar": {
              "outlinewidth": 0,
              "ticks": ""
             }
            },
            "type": "scattermapbox"
           }
          ],
          "scatterpolar": [
           {
            "marker": {
             "colorbar": {
              "outlinewidth": 0,
              "ticks": ""
             }
            },
            "type": "scatterpolar"
           }
          ],
          "scatterpolargl": [
           {
            "marker": {
             "colorbar": {
              "outlinewidth": 0,
              "ticks": ""
             }
            },
            "type": "scatterpolargl"
           }
          ],
          "scatterternary": [
           {
            "marker": {
             "colorbar": {
              "outlinewidth": 0,
              "ticks": ""
             }
            },
            "type": "scatterternary"
           }
          ],
          "surface": [
           {
            "colorbar": {
             "outlinewidth": 0,
             "ticks": ""
            },
            "colorscale": [
             [
              0,
              "#0d0887"
             ],
             [
              0.1111111111111111,
              "#46039f"
             ],
             [
              0.2222222222222222,
              "#7201a8"
             ],
             [
              0.3333333333333333,
              "#9c179e"
             ],
             [
              0.4444444444444444,
              "#bd3786"
             ],
             [
              0.5555555555555556,
              "#d8576b"
             ],
             [
              0.6666666666666666,
              "#ed7953"
             ],
             [
              0.7777777777777778,
              "#fb9f3a"
             ],
             [
              0.8888888888888888,
              "#fdca26"
             ],
             [
              1,
              "#f0f921"
             ]
            ],
            "type": "surface"
           }
          ],
          "table": [
           {
            "cells": {
             "fill": {
              "color": "#EBF0F8"
             },
             "line": {
              "color": "white"
             }
            },
            "header": {
             "fill": {
              "color": "#C8D4E3"
             },
             "line": {
              "color": "white"
             }
            },
            "type": "table"
           }
          ]
         },
         "layout": {
          "annotationdefaults": {
           "arrowcolor": "#2a3f5f",
           "arrowhead": 0,
           "arrowwidth": 1
          },
          "autotypenumbers": "strict",
          "coloraxis": {
           "colorbar": {
            "outlinewidth": 0,
            "ticks": ""
           }
          },
          "colorscale": {
           "diverging": [
            [
             0,
             "#8e0152"
            ],
            [
             0.1,
             "#c51b7d"
            ],
            [
             0.2,
             "#de77ae"
            ],
            [
             0.3,
             "#f1b6da"
            ],
            [
             0.4,
             "#fde0ef"
            ],
            [
             0.5,
             "#f7f7f7"
            ],
            [
             0.6,
             "#e6f5d0"
            ],
            [
             0.7,
             "#b8e186"
            ],
            [
             0.8,
             "#7fbc41"
            ],
            [
             0.9,
             "#4d9221"
            ],
            [
             1,
             "#276419"
            ]
           ],
           "sequential": [
            [
             0,
             "#0d0887"
            ],
            [
             0.1111111111111111,
             "#46039f"
            ],
            [
             0.2222222222222222,
             "#7201a8"
            ],
            [
             0.3333333333333333,
             "#9c179e"
            ],
            [
             0.4444444444444444,
             "#bd3786"
            ],
            [
             0.5555555555555556,
             "#d8576b"
            ],
            [
             0.6666666666666666,
             "#ed7953"
            ],
            [
             0.7777777777777778,
             "#fb9f3a"
            ],
            [
             0.8888888888888888,
             "#fdca26"
            ],
            [
             1,
             "#f0f921"
            ]
           ],
           "sequentialminus": [
            [
             0,
             "#0d0887"
            ],
            [
             0.1111111111111111,
             "#46039f"
            ],
            [
             0.2222222222222222,
             "#7201a8"
            ],
            [
             0.3333333333333333,
             "#9c179e"
            ],
            [
             0.4444444444444444,
             "#bd3786"
            ],
            [
             0.5555555555555556,
             "#d8576b"
            ],
            [
             0.6666666666666666,
             "#ed7953"
            ],
            [
             0.7777777777777778,
             "#fb9f3a"
            ],
            [
             0.8888888888888888,
             "#fdca26"
            ],
            [
             1,
             "#f0f921"
            ]
           ]
          },
          "colorway": [
           "#636efa",
           "#EF553B",
           "#00cc96",
           "#ab63fa",
           "#FFA15A",
           "#19d3f3",
           "#FF6692",
           "#B6E880",
           "#FF97FF",
           "#FECB52"
          ],
          "font": {
           "color": "#2a3f5f"
          },
          "geo": {
           "bgcolor": "white",
           "lakecolor": "white",
           "landcolor": "#E5ECF6",
           "showlakes": true,
           "showland": true,
           "subunitcolor": "white"
          },
          "hoverlabel": {
           "align": "left"
          },
          "hovermode": "closest",
          "mapbox": {
           "style": "light"
          },
          "paper_bgcolor": "white",
          "plot_bgcolor": "#E5ECF6",
          "polar": {
           "angularaxis": {
            "gridcolor": "white",
            "linecolor": "white",
            "ticks": ""
           },
           "bgcolor": "#E5ECF6",
           "radialaxis": {
            "gridcolor": "white",
            "linecolor": "white",
            "ticks": ""
           }
          },
          "scene": {
           "xaxis": {
            "backgroundcolor": "#E5ECF6",
            "gridcolor": "white",
            "gridwidth": 2,
            "linecolor": "white",
            "showbackground": true,
            "ticks": "",
            "zerolinecolor": "white"
           },
           "yaxis": {
            "backgroundcolor": "#E5ECF6",
            "gridcolor": "white",
            "gridwidth": 2,
            "linecolor": "white",
            "showbackground": true,
            "ticks": "",
            "zerolinecolor": "white"
           },
           "zaxis": {
            "backgroundcolor": "#E5ECF6",
            "gridcolor": "white",
            "gridwidth": 2,
            "linecolor": "white",
            "showbackground": true,
            "ticks": "",
            "zerolinecolor": "white"
           }
          },
          "shapedefaults": {
           "line": {
            "color": "#2a3f5f"
           }
          },
          "ternary": {
           "aaxis": {
            "gridcolor": "white",
            "linecolor": "white",
            "ticks": ""
           },
           "baxis": {
            "gridcolor": "white",
            "linecolor": "white",
            "ticks": ""
           },
           "bgcolor": "#E5ECF6",
           "caxis": {
            "gridcolor": "white",
            "linecolor": "white",
            "ticks": ""
           }
          },
          "title": {
           "x": 0.05
          },
          "xaxis": {
           "automargin": true,
           "gridcolor": "white",
           "linecolor": "white",
           "ticks": "",
           "title": {
            "standoff": 15
           },
           "zerolinecolor": "white",
           "zerolinewidth": 2
          },
          "yaxis": {
           "automargin": true,
           "gridcolor": "white",
           "linecolor": "white",
           "ticks": "",
           "title": {
            "standoff": 15
           },
           "zerolinecolor": "white",
           "zerolinewidth": 2
          }
         }
        },
        "title": {
         "text": "3d TSNE Plot for Clusters"
        },
        "width": 900
       }
      }
     },
     "metadata": {},
     "output_type": "display_data"
    }
   ],
   "source": [
    "#Plotting 3d scatter plot\n",
    "plot_model(kmeans, plot=\"tsne\")"
   ]
  },
  {
   "cell_type": "code",
   "execution_count": 15,
   "metadata": {},
   "outputs": [
    {
     "data": {
      "application/vnd.plotly.v1+json": {
       "config": {
        "plotlyServerURL": "https://plot.ly"
       },
       "data": [
        {
         "alignmentgroup": "True",
         "bingroup": "x",
         "hovertemplate": "Cluster=%{x}<br>count=%{y}<extra></extra>",
         "legendgroup": "Cluster 0",
         "marker": {
          "color": "#636efa",
          "opacity": 0.7,
          "pattern": {
           "shape": ""
          }
         },
         "name": "Cluster 0",
         "offsetgroup": "Cluster 0",
         "orientation": "v",
         "showlegend": true,
         "type": "histogram",
         "x": [
          "Cluster 0",
          "Cluster 0",
          "Cluster 0",
          "Cluster 0",
          "Cluster 0",
          "Cluster 0",
          "Cluster 0",
          "Cluster 0",
          "Cluster 0",
          "Cluster 0",
          "Cluster 0",
          "Cluster 0",
          "Cluster 0",
          "Cluster 0",
          "Cluster 0",
          "Cluster 0",
          "Cluster 0",
          "Cluster 0",
          "Cluster 0",
          "Cluster 0",
          "Cluster 0",
          "Cluster 0",
          "Cluster 0",
          "Cluster 0",
          "Cluster 0",
          "Cluster 0",
          "Cluster 0",
          "Cluster 0",
          "Cluster 0",
          "Cluster 0",
          "Cluster 0",
          "Cluster 0",
          "Cluster 0",
          "Cluster 0",
          "Cluster 0",
          "Cluster 0",
          "Cluster 0",
          "Cluster 0",
          "Cluster 0",
          "Cluster 0",
          "Cluster 0",
          "Cluster 0",
          "Cluster 0",
          "Cluster 0",
          "Cluster 0",
          "Cluster 0",
          "Cluster 0",
          "Cluster 0",
          "Cluster 0",
          "Cluster 0"
         ],
         "xaxis": "x",
         "yaxis": "y"
        },
        {
         "alignmentgroup": "True",
         "customdata": [
          [
           5.1,
           3.5,
           1.4,
           0.2,
           "Iris-setosa"
          ],
          [
           5.2,
           3.5,
           1.5,
           0.2,
           "Iris-setosa"
          ],
          [
           5.2,
           3.4,
           1.4,
           0.2,
           "Iris-setosa"
          ],
          [
           4.7,
           3.2,
           1.6,
           0.2,
           "Iris-setosa"
          ],
          [
           4.8,
           3.1,
           1.6,
           0.2,
           "Iris-setosa"
          ],
          [
           5.4,
           3.4,
           1.5,
           0.4,
           "Iris-setosa"
          ],
          [
           5.2,
           4.1,
           1.5,
           0.1,
           "Iris-setosa"
          ],
          [
           5.5,
           4.2,
           1.4,
           0.2,
           "Iris-setosa"
          ],
          [
           4.9,
           3.1,
           1.5,
           0.1,
           "Iris-setosa"
          ],
          [
           5,
           3.2,
           1.2,
           0.2,
           "Iris-setosa"
          ],
          [
           4.9,
           3.1,
           1.5,
           0.1,
           "Iris-setosa"
          ],
          [
           5,
           3.4,
           1.6,
           0.4,
           "Iris-setosa"
          ],
          [
           4.4,
           3,
           1.3,
           0.2,
           "Iris-setosa"
          ],
          [
           5,
           3.5,
           1.3,
           0.3,
           "Iris-setosa"
          ],
          [
           4.5,
           2.3,
           1.3,
           0.3,
           "Iris-setosa"
          ],
          [
           4.4,
           3.2,
           1.3,
           0.2,
           "Iris-setosa"
          ],
          [
           5,
           3.5,
           1.6,
           0.6,
           "Iris-setosa"
          ],
          [
           5.1,
           3.8,
           1.9,
           0.4,
           "Iris-setosa"
          ],
          [
           4.8,
           3,
           1.4,
           0.3,
           "Iris-setosa"
          ],
          [
           5.1,
           3.8,
           1.6,
           0.2,
           "Iris-setosa"
          ],
          [
           4.6,
           3.2,
           1.4,
           0.2,
           "Iris-setosa"
          ],
          [
           5.3,
           3.7,
           1.5,
           0.2,
           "Iris-setosa"
          ],
          [
           5,
           3.3,
           1.4,
           0.2,
           "Iris-setosa"
          ],
          [
           5.1,
           3.4,
           1.5,
           0.2,
           "Iris-setosa"
          ],
          [
           5,
           3,
           1.6,
           0.2,
           "Iris-setosa"
          ],
          [
           5.5,
           3.5,
           1.3,
           0.2,
           "Iris-setosa"
          ],
          [
           5.1,
           3.3,
           1.7,
           0.5,
           "Iris-setosa"
          ],
          [
           4.8,
           3.4,
           1.9,
           0.2,
           "Iris-setosa"
          ],
          [
           4.7,
           3.2,
           1.3,
           0.2,
           "Iris-setosa"
          ],
          [
           4.6,
           3.1,
           1.5,
           0.2,
           "Iris-setosa"
          ],
          [
           5,
           3.6,
           1.4,
           0.2,
           "Iris-setosa"
          ],
          [
           5.4,
           3.9,
           1.7,
           0.4,
           "Iris-setosa"
          ],
          [
           4.6,
           3.4,
           1.4,
           0.3,
           "Iris-setosa"
          ],
          [
           5,
           3.4,
           1.5,
           0.2,
           "Iris-setosa"
          ],
          [
           4.4,
           2.9,
           1.4,
           0.2,
           "Iris-setosa"
          ],
          [
           4.9,
           3.1,
           1.5,
           0.1,
           "Iris-setosa"
          ],
          [
           5.4,
           3.7,
           1.5,
           0.2,
           "Iris-setosa"
          ],
          [
           4.8,
           3.4,
           1.6,
           0.2,
           "Iris-setosa"
          ],
          [
           4.9,
           3,
           1.4,
           0.2,
           "Iris-setosa"
          ],
          [
           4.3,
           3,
           1.1,
           0.1,
           "Iris-setosa"
          ],
          [
           4.8,
           3,
           1.4,
           0.1,
           "Iris-setosa"
          ],
          [
           5.1,
           3.7,
           1.5,
           0.4,
           "Iris-setosa"
          ],
          [
           5.4,
           3.4,
           1.7,
           0.2,
           "Iris-setosa"
          ],
          [
           5.1,
           3.8,
           1.5,
           0.3,
           "Iris-setosa"
          ],
          [
           5.7,
           3.8,
           1.7,
           0.3,
           "Iris-setosa"
          ],
          [
           4.6,
           3.6,
           1,
           0.2,
           "Iris-setosa"
          ],
          [
           5.4,
           3.9,
           1.3,
           0.4,
           "Iris-setosa"
          ],
          [
           5.7,
           4.4,
           1.5,
           0.4,
           "Iris-setosa"
          ],
          [
           5.8,
           4,
           1.2,
           0.2,
           "Iris-setosa"
          ],
          [
           5.1,
           3.5,
           1.4,
           0.3,
           "Iris-setosa"
          ]
         ],
         "hovertemplate": "Cluster=%{x}<br>sepal_length=%{customdata[0]}<br>sepal_width=%{customdata[1]}<br>petal_length=%{customdata[2]}<br>petal_width=%{customdata[3]}<br>species=%{customdata[4]}<extra></extra>",
         "legendgroup": "Cluster 0",
         "marker": {
          "color": "#636efa"
         },
         "name": "Cluster 0",
         "notched": true,
         "offsetgroup": "Cluster 0",
         "showlegend": false,
         "type": "box",
         "x": [
          "Cluster 0",
          "Cluster 0",
          "Cluster 0",
          "Cluster 0",
          "Cluster 0",
          "Cluster 0",
          "Cluster 0",
          "Cluster 0",
          "Cluster 0",
          "Cluster 0",
          "Cluster 0",
          "Cluster 0",
          "Cluster 0",
          "Cluster 0",
          "Cluster 0",
          "Cluster 0",
          "Cluster 0",
          "Cluster 0",
          "Cluster 0",
          "Cluster 0",
          "Cluster 0",
          "Cluster 0",
          "Cluster 0",
          "Cluster 0",
          "Cluster 0",
          "Cluster 0",
          "Cluster 0",
          "Cluster 0",
          "Cluster 0",
          "Cluster 0",
          "Cluster 0",
          "Cluster 0",
          "Cluster 0",
          "Cluster 0",
          "Cluster 0",
          "Cluster 0",
          "Cluster 0",
          "Cluster 0",
          "Cluster 0",
          "Cluster 0",
          "Cluster 0",
          "Cluster 0",
          "Cluster 0",
          "Cluster 0",
          "Cluster 0",
          "Cluster 0",
          "Cluster 0",
          "Cluster 0",
          "Cluster 0",
          "Cluster 0"
         ],
         "xaxis": "x2",
         "yaxis": "y2"
        },
        {
         "alignmentgroup": "True",
         "bingroup": "x",
         "hovertemplate": "Cluster=%{x}<br>count=%{y}<extra></extra>",
         "legendgroup": "Cluster 1",
         "marker": {
          "color": "#EF553B",
          "opacity": 0.7,
          "pattern": {
           "shape": ""
          }
         },
         "name": "Cluster 1",
         "offsetgroup": "Cluster 1",
         "orientation": "v",
         "showlegend": true,
         "type": "histogram",
         "x": [
          "Cluster 1",
          "Cluster 1",
          "Cluster 1",
          "Cluster 1",
          "Cluster 1",
          "Cluster 1",
          "Cluster 1",
          "Cluster 1",
          "Cluster 1",
          "Cluster 1",
          "Cluster 1",
          "Cluster 1",
          "Cluster 1",
          "Cluster 1",
          "Cluster 1",
          "Cluster 1",
          "Cluster 1",
          "Cluster 1",
          "Cluster 1",
          "Cluster 1",
          "Cluster 1",
          "Cluster 1",
          "Cluster 1",
          "Cluster 1",
          "Cluster 1",
          "Cluster 1",
          "Cluster 1",
          "Cluster 1",
          "Cluster 1",
          "Cluster 1",
          "Cluster 1",
          "Cluster 1"
         ],
         "xaxis": "x",
         "yaxis": "y"
        },
        {
         "alignmentgroup": "True",
         "customdata": [
          [
           7.1,
           3,
           5.9,
           2.1,
           "Iris-virginica"
          ],
          [
           6.4,
           2.8,
           5.6,
           2.2,
           "Iris-virginica"
          ],
          [
           7.9,
           3.8,
           6.4,
           2,
           "Iris-virginica"
          ],
          [
           7.4,
           2.8,
           6.1,
           1.9,
           "Iris-virginica"
          ],
          [
           7.2,
           3,
           5.8,
           1.6,
           "Iris-virginica"
          ],
          [
           6.4,
           2.8,
           5.6,
           2.1,
           "Iris-virginica"
          ],
          [
           7.7,
           3,
           6.1,
           2.3,
           "Iris-virginica"
          ],
          [
           6.3,
           3.3,
           6,
           2.5,
           "Iris-virginica"
          ],
          [
           7.2,
           3.2,
           6,
           1.8,
           "Iris-virginica"
          ],
          [
           6.3,
           2.9,
           5.6,
           1.8,
           "Iris-virginica"
          ],
          [
           6.7,
           3.3,
           5.7,
           2.1,
           "Iris-virginica"
          ],
          [
           7.6,
           3,
           6.6,
           2.1,
           "Iris-virginica"
          ],
          [
           7.3,
           2.9,
           6.3,
           1.8,
           "Iris-virginica"
          ],
          [
           6.7,
           2.5,
           5.8,
           1.8,
           "Iris-virginica"
          ],
          [
           7.2,
           3.6,
           6.1,
           2.5,
           "Iris-virginica"
          ],
          [
           6.8,
           3,
           5.5,
           2.1,
           "Iris-virginica"
          ],
          [
           7.7,
           2.8,
           6.7,
           2,
           "Iris-virginica"
          ],
          [
           6.4,
           3.2,
           5.3,
           2.3,
           "Iris-virginica"
          ],
          [
           6.5,
           3,
           5.5,
           1.8,
           "Iris-virginica"
          ],
          [
           7.7,
           3.8,
           6.7,
           2.2,
           "Iris-virginica"
          ],
          [
           6.2,
           3.4,
           5.4,
           2.3,
           "Iris-virginica"
          ],
          [
           6.5,
           3,
           5.8,
           2.2,
           "Iris-virginica"
          ],
          [
           6.3,
           3.4,
           5.6,
           2.4,
           "Iris-virginica"
          ],
          [
           6.9,
           3.2,
           5.7,
           2.3,
           "Iris-virginica"
          ],
          [
           6.9,
           3.1,
           5.4,
           2.1,
           "Iris-virginica"
          ],
          [
           6.7,
           3,
           5.2,
           2.3,
           "Iris-virginica"
          ],
          [
           6.7,
           3.3,
           5.7,
           2.5,
           "Iris-virginica"
          ],
          [
           6.8,
           3.2,
           5.9,
           2.3,
           "Iris-virginica"
          ],
          [
           6.9,
           3.1,
           5.1,
           2.3,
           "Iris-virginica"
          ],
          [
           7.7,
           2.6,
           6.9,
           2.3,
           "Iris-virginica"
          ],
          [
           6.4,
           3.1,
           5.5,
           1.8,
           "Iris-virginica"
          ],
          [
           6.7,
           3.1,
           5.6,
           2.4,
           "Iris-virginica"
          ]
         ],
         "hovertemplate": "Cluster=%{x}<br>sepal_length=%{customdata[0]}<br>sepal_width=%{customdata[1]}<br>petal_length=%{customdata[2]}<br>petal_width=%{customdata[3]}<br>species=%{customdata[4]}<extra></extra>",
         "legendgroup": "Cluster 1",
         "marker": {
          "color": "#EF553B"
         },
         "name": "Cluster 1",
         "notched": true,
         "offsetgroup": "Cluster 1",
         "showlegend": false,
         "type": "box",
         "x": [
          "Cluster 1",
          "Cluster 1",
          "Cluster 1",
          "Cluster 1",
          "Cluster 1",
          "Cluster 1",
          "Cluster 1",
          "Cluster 1",
          "Cluster 1",
          "Cluster 1",
          "Cluster 1",
          "Cluster 1",
          "Cluster 1",
          "Cluster 1",
          "Cluster 1",
          "Cluster 1",
          "Cluster 1",
          "Cluster 1",
          "Cluster 1",
          "Cluster 1",
          "Cluster 1",
          "Cluster 1",
          "Cluster 1",
          "Cluster 1",
          "Cluster 1",
          "Cluster 1",
          "Cluster 1",
          "Cluster 1",
          "Cluster 1",
          "Cluster 1",
          "Cluster 1",
          "Cluster 1"
         ],
         "xaxis": "x2",
         "yaxis": "y2"
        },
        {
         "alignmentgroup": "True",
         "bingroup": "x",
         "hovertemplate": "Cluster=%{x}<br>count=%{y}<extra></extra>",
         "legendgroup": "Cluster 2",
         "marker": {
          "color": "#00cc96",
          "opacity": 0.7,
          "pattern": {
           "shape": ""
          }
         },
         "name": "Cluster 2",
         "offsetgroup": "Cluster 2",
         "orientation": "v",
         "showlegend": true,
         "type": "histogram",
         "x": [
          "Cluster 2",
          "Cluster 2",
          "Cluster 2",
          "Cluster 2",
          "Cluster 2",
          "Cluster 2",
          "Cluster 2",
          "Cluster 2",
          "Cluster 2",
          "Cluster 2",
          "Cluster 2",
          "Cluster 2",
          "Cluster 2",
          "Cluster 2",
          "Cluster 2",
          "Cluster 2",
          "Cluster 2",
          "Cluster 2",
          "Cluster 2",
          "Cluster 2",
          "Cluster 2",
          "Cluster 2",
          "Cluster 2",
          "Cluster 2",
          "Cluster 2",
          "Cluster 2",
          "Cluster 2",
          "Cluster 2"
         ],
         "xaxis": "x",
         "yaxis": "y"
        },
        {
         "alignmentgroup": "True",
         "customdata": [
          [
           5.1,
           2.5,
           3,
           1.1,
           "Iris-versicolor"
          ],
          [
           5.7,
           2.8,
           4.1,
           1.3,
           "Iris-versicolor"
          ],
          [
           5.6,
           2.9,
           3.6,
           1.3,
           "Iris-versicolor"
          ],
          [
           6,
           2.2,
           4,
           1,
           "Iris-versicolor"
          ],
          [
           6.1,
           2.8,
           4,
           1.3,
           "Iris-versicolor"
          ],
          [
           5,
           2,
           3.5,
           1,
           "Iris-versicolor"
          ],
          [
           4.9,
           2.5,
           4.5,
           1.7,
           "Iris-virginica"
          ],
          [
           4.9,
           2.4,
           3.3,
           1,
           "Iris-versicolor"
          ],
          [
           5.7,
           2.8,
           4.5,
           1.3,
           "Iris-versicolor"
          ],
          [
           5.5,
           2.3,
           4,
           1.3,
           "Iris-versicolor"
          ],
          [
           5.9,
           3,
           4.2,
           1.5,
           "Iris-versicolor"
          ],
          [
           5.7,
           3,
           4.2,
           1.2,
           "Iris-versicolor"
          ],
          [
           5.7,
           2.9,
           4.2,
           1.3,
           "Iris-versicolor"
          ],
          [
           5,
           2.3,
           3.3,
           1,
           "Iris-versicolor"
          ],
          [
           5.6,
           2.5,
           3.9,
           1.1,
           "Iris-versicolor"
          ],
          [
           5.7,
           2.6,
           3.5,
           1,
           "Iris-versicolor"
          ],
          [
           5.5,
           2.4,
           3.8,
           1.1,
           "Iris-versicolor"
          ],
          [
           5.6,
           2.7,
           4.2,
           1.3,
           "Iris-versicolor"
          ],
          [
           5.5,
           2.4,
           3.7,
           1,
           "Iris-versicolor"
          ],
          [
           5.8,
           2.7,
           3.9,
           1.2,
           "Iris-versicolor"
          ],
          [
           5.4,
           3,
           4.5,
           1.5,
           "Iris-versicolor"
          ],
          [
           5.2,
           2.7,
           3.9,
           1.4,
           "Iris-versicolor"
          ],
          [
           5.6,
           3,
           4.5,
           1.5,
           "Iris-versicolor"
          ],
          [
           5.6,
           3,
           4.1,
           1.3,
           "Iris-versicolor"
          ],
          [
           5.5,
           2.5,
           4,
           1.3,
           "Iris-versicolor"
          ],
          [
           5.5,
           2.6,
           4.4,
           1.2,
           "Iris-versicolor"
          ],
          [
           5.8,
           2.6,
           4,
           1.2,
           "Iris-versicolor"
          ],
          [
           5.8,
           2.7,
           4.1,
           1,
           "Iris-versicolor"
          ]
         ],
         "hovertemplate": "Cluster=%{x}<br>sepal_length=%{customdata[0]}<br>sepal_width=%{customdata[1]}<br>petal_length=%{customdata[2]}<br>petal_width=%{customdata[3]}<br>species=%{customdata[4]}<extra></extra>",
         "legendgroup": "Cluster 2",
         "marker": {
          "color": "#00cc96"
         },
         "name": "Cluster 2",
         "notched": true,
         "offsetgroup": "Cluster 2",
         "showlegend": false,
         "type": "box",
         "x": [
          "Cluster 2",
          "Cluster 2",
          "Cluster 2",
          "Cluster 2",
          "Cluster 2",
          "Cluster 2",
          "Cluster 2",
          "Cluster 2",
          "Cluster 2",
          "Cluster 2",
          "Cluster 2",
          "Cluster 2",
          "Cluster 2",
          "Cluster 2",
          "Cluster 2",
          "Cluster 2",
          "Cluster 2",
          "Cluster 2",
          "Cluster 2",
          "Cluster 2",
          "Cluster 2",
          "Cluster 2",
          "Cluster 2",
          "Cluster 2",
          "Cluster 2",
          "Cluster 2",
          "Cluster 2",
          "Cluster 2"
         ],
         "xaxis": "x2",
         "yaxis": "y2"
        },
        {
         "alignmentgroup": "True",
         "bingroup": "x",
         "hovertemplate": "Cluster=%{x}<br>count=%{y}<extra></extra>",
         "legendgroup": "Cluster 3",
         "marker": {
          "color": "#ab63fa",
          "opacity": 0.7,
          "pattern": {
           "shape": ""
          }
         },
         "name": "Cluster 3",
         "offsetgroup": "Cluster 3",
         "orientation": "v",
         "showlegend": true,
         "type": "histogram",
         "x": [
          "Cluster 3",
          "Cluster 3",
          "Cluster 3",
          "Cluster 3",
          "Cluster 3",
          "Cluster 3",
          "Cluster 3",
          "Cluster 3",
          "Cluster 3",
          "Cluster 3",
          "Cluster 3",
          "Cluster 3",
          "Cluster 3",
          "Cluster 3",
          "Cluster 3",
          "Cluster 3",
          "Cluster 3",
          "Cluster 3",
          "Cluster 3",
          "Cluster 3",
          "Cluster 3",
          "Cluster 3",
          "Cluster 3",
          "Cluster 3",
          "Cluster 3",
          "Cluster 3",
          "Cluster 3",
          "Cluster 3",
          "Cluster 3",
          "Cluster 3",
          "Cluster 3",
          "Cluster 3",
          "Cluster 3",
          "Cluster 3",
          "Cluster 3",
          "Cluster 3",
          "Cluster 3",
          "Cluster 3",
          "Cluster 3",
          "Cluster 3"
         ],
         "xaxis": "x",
         "yaxis": "y"
        },
        {
         "alignmentgroup": "True",
         "customdata": [
          [
           6.1,
           3,
           4.9,
           1.8,
           "Iris-virginica"
          ],
          [
           6.2,
           2.8,
           4.8,
           1.8,
           "Iris-virginica"
          ],
          [
           6.3,
           2.7,
           4.9,
           1.8,
           "Iris-virginica"
          ],
          [
           6.3,
           2.8,
           5.1,
           1.5,
           "Iris-virginica"
          ],
          [
           6.1,
           2.6,
           5.6,
           1.4,
           "Iris-virginica"
          ],
          [
           5.6,
           2.8,
           4.9,
           2,
           "Iris-virginica"
          ],
          [
           6,
           3,
           4.8,
           1.8,
           "Iris-virginica"
          ],
          [
           6.3,
           2.5,
           5,
           1.9,
           "Iris-virginica"
          ],
          [
           6.5,
           3,
           5.2,
           2,
           "Iris-virginica"
          ],
          [
           5.8,
           2.7,
           5.1,
           1.9,
           "Iris-virginica"
          ],
          [
           6.4,
           2.9,
           4.3,
           1.3,
           "Iris-versicolor"
          ],
          [
           5.8,
           2.8,
           5.1,
           2.4,
           "Iris-virginica"
          ],
          [
           7,
           3.2,
           4.7,
           1.4,
           "Iris-versicolor"
          ],
          [
           6.4,
           3.2,
           4.5,
           1.5,
           "Iris-versicolor"
          ],
          [
           6.9,
           3.1,
           4.9,
           1.5,
           "Iris-versicolor"
          ],
          [
           6.5,
           2.8,
           4.6,
           1.5,
           "Iris-versicolor"
          ],
          [
           6.3,
           3.3,
           4.7,
           1.6,
           "Iris-versicolor"
          ],
          [
           6.6,
           2.9,
           4.6,
           1.3,
           "Iris-versicolor"
          ],
          [
           6.1,
           2.9,
           4.7,
           1.4,
           "Iris-versicolor"
          ],
          [
           6.7,
           3.1,
           4.4,
           1.4,
           "Iris-versicolor"
          ],
          [
           6.2,
           2.2,
           4.5,
           1.5,
           "Iris-versicolor"
          ],
          [
           5.9,
           3.2,
           4.8,
           1.8,
           "Iris-versicolor"
          ],
          [
           6.3,
           2.5,
           4.9,
           1.5,
           "Iris-versicolor"
          ],
          [
           6.1,
           2.8,
           4.7,
           1.2,
           "Iris-versicolor"
          ],
          [
           6,
           2.2,
           5,
           1.5,
           "Iris-virginica"
          ],
          [
           6.6,
           3,
           4.4,
           1.4,
           "Iris-versicolor"
          ],
          [
           6.7,
           3,
           5,
           1.7,
           "Iris-versicolor"
          ],
          [
           6,
           2.9,
           4.5,
           1.5,
           "Iris-versicolor"
          ],
          [
           6,
           2.7,
           5.1,
           1.6,
           "Iris-versicolor"
          ],
          [
           6,
           3.4,
           4.5,
           1.6,
           "Iris-versicolor"
          ],
          [
           6.7,
           3.1,
           4.7,
           1.5,
           "Iris-versicolor"
          ],
          [
           6.3,
           2.3,
           4.4,
           1.3,
           "Iris-versicolor"
          ],
          [
           6.1,
           3,
           4.6,
           1.4,
           "Iris-versicolor"
          ],
          [
           6.2,
           2.9,
           4.3,
           1.3,
           "Iris-versicolor"
          ],
          [
           5.8,
           2.7,
           5.1,
           1.9,
           "Iris-virginica"
          ],
          [
           6.5,
           3.2,
           5.1,
           2,
           "Iris-virginica"
          ],
          [
           6.4,
           2.7,
           5.3,
           1.9,
           "Iris-virginica"
          ],
          [
           5.7,
           2.5,
           5,
           2,
           "Iris-virginica"
          ],
          [
           6.8,
           2.8,
           4.8,
           1.4,
           "Iris-versicolor"
          ],
          [
           5.9,
           3,
           5.1,
           1.8,
           "Iris-virginica"
          ]
         ],
         "hovertemplate": "Cluster=%{x}<br>sepal_length=%{customdata[0]}<br>sepal_width=%{customdata[1]}<br>petal_length=%{customdata[2]}<br>petal_width=%{customdata[3]}<br>species=%{customdata[4]}<extra></extra>",
         "legendgroup": "Cluster 3",
         "marker": {
          "color": "#ab63fa"
         },
         "name": "Cluster 3",
         "notched": true,
         "offsetgroup": "Cluster 3",
         "showlegend": false,
         "type": "box",
         "x": [
          "Cluster 3",
          "Cluster 3",
          "Cluster 3",
          "Cluster 3",
          "Cluster 3",
          "Cluster 3",
          "Cluster 3",
          "Cluster 3",
          "Cluster 3",
          "Cluster 3",
          "Cluster 3",
          "Cluster 3",
          "Cluster 3",
          "Cluster 3",
          "Cluster 3",
          "Cluster 3",
          "Cluster 3",
          "Cluster 3",
          "Cluster 3",
          "Cluster 3",
          "Cluster 3",
          "Cluster 3",
          "Cluster 3",
          "Cluster 3",
          "Cluster 3",
          "Cluster 3",
          "Cluster 3",
          "Cluster 3",
          "Cluster 3",
          "Cluster 3",
          "Cluster 3",
          "Cluster 3",
          "Cluster 3",
          "Cluster 3",
          "Cluster 3",
          "Cluster 3",
          "Cluster 3",
          "Cluster 3",
          "Cluster 3",
          "Cluster 3"
         ],
         "xaxis": "x2",
         "yaxis": "y2"
        }
       ],
       "layout": {
        "barmode": "relative",
        "height": 600,
        "legend": {
         "title": {
          "text": "Cluster"
         },
         "tracegroupgap": 0
        },
        "margin": {
         "t": 60
        },
        "template": {
         "data": {
          "bar": [
           {
            "error_x": {
             "color": "#2a3f5f"
            },
            "error_y": {
             "color": "#2a3f5f"
            },
            "marker": {
             "line": {
              "color": "#E5ECF6",
              "width": 0.5
             },
             "pattern": {
              "fillmode": "overlay",
              "size": 10,
              "solidity": 0.2
             }
            },
            "type": "bar"
           }
          ],
          "barpolar": [
           {
            "marker": {
             "line": {
              "color": "#E5ECF6",
              "width": 0.5
             },
             "pattern": {
              "fillmode": "overlay",
              "size": 10,
              "solidity": 0.2
             }
            },
            "type": "barpolar"
           }
          ],
          "carpet": [
           {
            "aaxis": {
             "endlinecolor": "#2a3f5f",
             "gridcolor": "white",
             "linecolor": "white",
             "minorgridcolor": "white",
             "startlinecolor": "#2a3f5f"
            },
            "baxis": {
             "endlinecolor": "#2a3f5f",
             "gridcolor": "white",
             "linecolor": "white",
             "minorgridcolor": "white",
             "startlinecolor": "#2a3f5f"
            },
            "type": "carpet"
           }
          ],
          "choropleth": [
           {
            "colorbar": {
             "outlinewidth": 0,
             "ticks": ""
            },
            "type": "choropleth"
           }
          ],
          "contour": [
           {
            "colorbar": {
             "outlinewidth": 0,
             "ticks": ""
            },
            "colorscale": [
             [
              0,
              "#0d0887"
             ],
             [
              0.1111111111111111,
              "#46039f"
             ],
             [
              0.2222222222222222,
              "#7201a8"
             ],
             [
              0.3333333333333333,
              "#9c179e"
             ],
             [
              0.4444444444444444,
              "#bd3786"
             ],
             [
              0.5555555555555556,
              "#d8576b"
             ],
             [
              0.6666666666666666,
              "#ed7953"
             ],
             [
              0.7777777777777778,
              "#fb9f3a"
             ],
             [
              0.8888888888888888,
              "#fdca26"
             ],
             [
              1,
              "#f0f921"
             ]
            ],
            "type": "contour"
           }
          ],
          "contourcarpet": [
           {
            "colorbar": {
             "outlinewidth": 0,
             "ticks": ""
            },
            "type": "contourcarpet"
           }
          ],
          "heatmap": [
           {
            "colorbar": {
             "outlinewidth": 0,
             "ticks": ""
            },
            "colorscale": [
             [
              0,
              "#0d0887"
             ],
             [
              0.1111111111111111,
              "#46039f"
             ],
             [
              0.2222222222222222,
              "#7201a8"
             ],
             [
              0.3333333333333333,
              "#9c179e"
             ],
             [
              0.4444444444444444,
              "#bd3786"
             ],
             [
              0.5555555555555556,
              "#d8576b"
             ],
             [
              0.6666666666666666,
              "#ed7953"
             ],
             [
              0.7777777777777778,
              "#fb9f3a"
             ],
             [
              0.8888888888888888,
              "#fdca26"
             ],
             [
              1,
              "#f0f921"
             ]
            ],
            "type": "heatmap"
           }
          ],
          "heatmapgl": [
           {
            "colorbar": {
             "outlinewidth": 0,
             "ticks": ""
            },
            "colorscale": [
             [
              0,
              "#0d0887"
             ],
             [
              0.1111111111111111,
              "#46039f"
             ],
             [
              0.2222222222222222,
              "#7201a8"
             ],
             [
              0.3333333333333333,
              "#9c179e"
             ],
             [
              0.4444444444444444,
              "#bd3786"
             ],
             [
              0.5555555555555556,
              "#d8576b"
             ],
             [
              0.6666666666666666,
              "#ed7953"
             ],
             [
              0.7777777777777778,
              "#fb9f3a"
             ],
             [
              0.8888888888888888,
              "#fdca26"
             ],
             [
              1,
              "#f0f921"
             ]
            ],
            "type": "heatmapgl"
           }
          ],
          "histogram": [
           {
            "marker": {
             "pattern": {
              "fillmode": "overlay",
              "size": 10,
              "solidity": 0.2
             }
            },
            "type": "histogram"
           }
          ],
          "histogram2d": [
           {
            "colorbar": {
             "outlinewidth": 0,
             "ticks": ""
            },
            "colorscale": [
             [
              0,
              "#0d0887"
             ],
             [
              0.1111111111111111,
              "#46039f"
             ],
             [
              0.2222222222222222,
              "#7201a8"
             ],
             [
              0.3333333333333333,
              "#9c179e"
             ],
             [
              0.4444444444444444,
              "#bd3786"
             ],
             [
              0.5555555555555556,
              "#d8576b"
             ],
             [
              0.6666666666666666,
              "#ed7953"
             ],
             [
              0.7777777777777778,
              "#fb9f3a"
             ],
             [
              0.8888888888888888,
              "#fdca26"
             ],
             [
              1,
              "#f0f921"
             ]
            ],
            "type": "histogram2d"
           }
          ],
          "histogram2dcontour": [
           {
            "colorbar": {
             "outlinewidth": 0,
             "ticks": ""
            },
            "colorscale": [
             [
              0,
              "#0d0887"
             ],
             [
              0.1111111111111111,
              "#46039f"
             ],
             [
              0.2222222222222222,
              "#7201a8"
             ],
             [
              0.3333333333333333,
              "#9c179e"
             ],
             [
              0.4444444444444444,
              "#bd3786"
             ],
             [
              0.5555555555555556,
              "#d8576b"
             ],
             [
              0.6666666666666666,
              "#ed7953"
             ],
             [
              0.7777777777777778,
              "#fb9f3a"
             ],
             [
              0.8888888888888888,
              "#fdca26"
             ],
             [
              1,
              "#f0f921"
             ]
            ],
            "type": "histogram2dcontour"
           }
          ],
          "mesh3d": [
           {
            "colorbar": {
             "outlinewidth": 0,
             "ticks": ""
            },
            "type": "mesh3d"
           }
          ],
          "parcoords": [
           {
            "line": {
             "colorbar": {
              "outlinewidth": 0,
              "ticks": ""
             }
            },
            "type": "parcoords"
           }
          ],
          "pie": [
           {
            "automargin": true,
            "type": "pie"
           }
          ],
          "scatter": [
           {
            "marker": {
             "colorbar": {
              "outlinewidth": 0,
              "ticks": ""
             }
            },
            "type": "scatter"
           }
          ],
          "scatter3d": [
           {
            "line": {
             "colorbar": {
              "outlinewidth": 0,
              "ticks": ""
             }
            },
            "marker": {
             "colorbar": {
              "outlinewidth": 0,
              "ticks": ""
             }
            },
            "type": "scatter3d"
           }
          ],
          "scattercarpet": [
           {
            "marker": {
             "colorbar": {
              "outlinewidth": 0,
              "ticks": ""
             }
            },
            "type": "scattercarpet"
           }
          ],
          "scattergeo": [
           {
            "marker": {
             "colorbar": {
              "outlinewidth": 0,
              "ticks": ""
             }
            },
            "type": "scattergeo"
           }
          ],
          "scattergl": [
           {
            "marker": {
             "colorbar": {
              "outlinewidth": 0,
              "ticks": ""
             }
            },
            "type": "scattergl"
           }
          ],
          "scattermapbox": [
           {
            "marker": {
             "colorbar": {
              "outlinewidth": 0,
              "ticks": ""
             }
            },
            "type": "scattermapbox"
           }
          ],
          "scatterpolar": [
           {
            "marker": {
             "colorbar": {
              "outlinewidth": 0,
              "ticks": ""
             }
            },
            "type": "scatterpolar"
           }
          ],
          "scatterpolargl": [
           {
            "marker": {
             "colorbar": {
              "outlinewidth": 0,
              "ticks": ""
             }
            },
            "type": "scatterpolargl"
           }
          ],
          "scatterternary": [
           {
            "marker": {
             "colorbar": {
              "outlinewidth": 0,
              "ticks": ""
             }
            },
            "type": "scatterternary"
           }
          ],
          "surface": [
           {
            "colorbar": {
             "outlinewidth": 0,
             "ticks": ""
            },
            "colorscale": [
             [
              0,
              "#0d0887"
             ],
             [
              0.1111111111111111,
              "#46039f"
             ],
             [
              0.2222222222222222,
              "#7201a8"
             ],
             [
              0.3333333333333333,
              "#9c179e"
             ],
             [
              0.4444444444444444,
              "#bd3786"
             ],
             [
              0.5555555555555556,
              "#d8576b"
             ],
             [
              0.6666666666666666,
              "#ed7953"
             ],
             [
              0.7777777777777778,
              "#fb9f3a"
             ],
             [
              0.8888888888888888,
              "#fdca26"
             ],
             [
              1,
              "#f0f921"
             ]
            ],
            "type": "surface"
           }
          ],
          "table": [
           {
            "cells": {
             "fill": {
              "color": "#EBF0F8"
             },
             "line": {
              "color": "white"
             }
            },
            "header": {
             "fill": {
              "color": "#C8D4E3"
             },
             "line": {
              "color": "white"
             }
            },
            "type": "table"
           }
          ]
         },
         "layout": {
          "annotationdefaults": {
           "arrowcolor": "#2a3f5f",
           "arrowhead": 0,
           "arrowwidth": 1
          },
          "autotypenumbers": "strict",
          "coloraxis": {
           "colorbar": {
            "outlinewidth": 0,
            "ticks": ""
           }
          },
          "colorscale": {
           "diverging": [
            [
             0,
             "#8e0152"
            ],
            [
             0.1,
             "#c51b7d"
            ],
            [
             0.2,
             "#de77ae"
            ],
            [
             0.3,
             "#f1b6da"
            ],
            [
             0.4,
             "#fde0ef"
            ],
            [
             0.5,
             "#f7f7f7"
            ],
            [
             0.6,
             "#e6f5d0"
            ],
            [
             0.7,
             "#b8e186"
            ],
            [
             0.8,
             "#7fbc41"
            ],
            [
             0.9,
             "#4d9221"
            ],
            [
             1,
             "#276419"
            ]
           ],
           "sequential": [
            [
             0,
             "#0d0887"
            ],
            [
             0.1111111111111111,
             "#46039f"
            ],
            [
             0.2222222222222222,
             "#7201a8"
            ],
            [
             0.3333333333333333,
             "#9c179e"
            ],
            [
             0.4444444444444444,
             "#bd3786"
            ],
            [
             0.5555555555555556,
             "#d8576b"
            ],
            [
             0.6666666666666666,
             "#ed7953"
            ],
            [
             0.7777777777777778,
             "#fb9f3a"
            ],
            [
             0.8888888888888888,
             "#fdca26"
            ],
            [
             1,
             "#f0f921"
            ]
           ],
           "sequentialminus": [
            [
             0,
             "#0d0887"
            ],
            [
             0.1111111111111111,
             "#46039f"
            ],
            [
             0.2222222222222222,
             "#7201a8"
            ],
            [
             0.3333333333333333,
             "#9c179e"
            ],
            [
             0.4444444444444444,
             "#bd3786"
            ],
            [
             0.5555555555555556,
             "#d8576b"
            ],
            [
             0.6666666666666666,
             "#ed7953"
            ],
            [
             0.7777777777777778,
             "#fb9f3a"
            ],
            [
             0.8888888888888888,
             "#fdca26"
            ],
            [
             1,
             "#f0f921"
            ]
           ]
          },
          "colorway": [
           "#636efa",
           "#EF553B",
           "#00cc96",
           "#ab63fa",
           "#FFA15A",
           "#19d3f3",
           "#FF6692",
           "#B6E880",
           "#FF97FF",
           "#FECB52"
          ],
          "font": {
           "color": "#2a3f5f"
          },
          "geo": {
           "bgcolor": "white",
           "lakecolor": "white",
           "landcolor": "#E5ECF6",
           "showlakes": true,
           "showland": true,
           "subunitcolor": "white"
          },
          "hoverlabel": {
           "align": "left"
          },
          "hovermode": "closest",
          "mapbox": {
           "style": "light"
          },
          "paper_bgcolor": "white",
          "plot_bgcolor": "#E5ECF6",
          "polar": {
           "angularaxis": {
            "gridcolor": "white",
            "linecolor": "white",
            "ticks": ""
           },
           "bgcolor": "#E5ECF6",
           "radialaxis": {
            "gridcolor": "white",
            "linecolor": "white",
            "ticks": ""
           }
          },
          "scene": {
           "xaxis": {
            "backgroundcolor": "#E5ECF6",
            "gridcolor": "white",
            "gridwidth": 2,
            "linecolor": "white",
            "showbackground": true,
            "ticks": "",
            "zerolinecolor": "white"
           },
           "yaxis": {
            "backgroundcolor": "#E5ECF6",
            "gridcolor": "white",
            "gridwidth": 2,
            "linecolor": "white",
            "showbackground": true,
            "ticks": "",
            "zerolinecolor": "white"
           },
           "zaxis": {
            "backgroundcolor": "#E5ECF6",
            "gridcolor": "white",
            "gridwidth": 2,
            "linecolor": "white",
            "showbackground": true,
            "ticks": "",
            "zerolinecolor": "white"
           }
          },
          "shapedefaults": {
           "line": {
            "color": "#2a3f5f"
           }
          },
          "ternary": {
           "aaxis": {
            "gridcolor": "white",
            "linecolor": "white",
            "ticks": ""
           },
           "baxis": {
            "gridcolor": "white",
            "linecolor": "white",
            "ticks": ""
           },
           "bgcolor": "#E5ECF6",
           "caxis": {
            "gridcolor": "white",
            "linecolor": "white",
            "ticks": ""
           }
          },
          "title": {
           "x": 0.05
          },
          "xaxis": {
           "automargin": true,
           "gridcolor": "white",
           "linecolor": "white",
           "ticks": "",
           "title": {
            "standoff": 15
           },
           "zerolinecolor": "white",
           "zerolinewidth": 2
          },
          "yaxis": {
           "automargin": true,
           "gridcolor": "white",
           "linecolor": "white",
           "ticks": "",
           "title": {
            "standoff": 15
           },
           "zerolinecolor": "white",
           "zerolinewidth": 2
          }
         }
        },
        "xaxis": {
         "anchor": "y",
         "categoryarray": [
          "Cluster 0",
          "Cluster 1",
          "Cluster 2",
          "Cluster 3"
         ],
         "categoryorder": "array",
         "domain": [
          0,
          1
         ],
         "title": {
          "text": "Cluster"
         }
        },
        "xaxis2": {
         "anchor": "y2",
         "domain": [
          0,
          1
         ],
         "matches": "x",
         "showgrid": true,
         "showticklabels": false
        },
        "yaxis": {
         "anchor": "x",
         "domain": [
          0,
          0.7326
         ],
         "title": {
          "text": "count"
         }
        },
        "yaxis2": {
         "anchor": "x2",
         "domain": [
          0.7426,
          1
         ],
         "matches": "y2",
         "showgrid": false,
         "showline": false,
         "showticklabels": false,
         "ticks": ""
        }
       }
      }
     },
     "metadata": {},
     "output_type": "display_data"
    }
   ],
   "source": [
    "plot_model(kmeans, plot=\"distribution\")"
   ]
  },
  {
   "cell_type": "markdown",
   "metadata": {},
   "source": [
    "#### Saving and predicting"
   ]
  },
  {
   "cell_type": "code",
   "execution_count": 14,
   "metadata": {},
   "outputs": [
    {
     "name": "stdout",
     "output_type": "stream",
     "text": [
      "Transformation Pipeline and Model Successfully Saved\n"
     ]
    }
   ],
   "source": [
    "#Saving the model for later use\n",
    "save_model(kmeans, \"../Models/kmeans\");"
   ]
  },
  {
   "cell_type": "code",
   "execution_count": 19,
   "metadata": {},
   "outputs": [
    {
     "name": "stdout",
     "output_type": "stream",
     "text": [
      "Transformation Pipeline and Model Successfully Loaded\n"
     ]
    },
    {
     "data": {
      "text/html": [
       "<div>\n",
       "<style scoped>\n",
       "    .dataframe tbody tr th:only-of-type {\n",
       "        vertical-align: middle;\n",
       "    }\n",
       "\n",
       "    .dataframe tbody tr th {\n",
       "        vertical-align: top;\n",
       "    }\n",
       "\n",
       "    .dataframe thead th {\n",
       "        text-align: right;\n",
       "    }\n",
       "</style>\n",
       "<table border=\"1\" class=\"dataframe\">\n",
       "  <thead>\n",
       "    <tr style=\"text-align: right;\">\n",
       "      <th></th>\n",
       "      <th>sepal_length</th>\n",
       "      <th>sepal_width</th>\n",
       "      <th>petal_length</th>\n",
       "      <th>petal_width</th>\n",
       "      <th>species</th>\n",
       "      <th>Cluster</th>\n",
       "    </tr>\n",
       "  </thead>\n",
       "  <tbody>\n",
       "    <tr>\n",
       "      <th>0</th>\n",
       "      <td>5.1</td>\n",
       "      <td>3.5</td>\n",
       "      <td>1.4</td>\n",
       "      <td>0.2</td>\n",
       "      <td>Iris-setosa</td>\n",
       "      <td>Cluster 0</td>\n",
       "    </tr>\n",
       "    <tr>\n",
       "      <th>1</th>\n",
       "      <td>4.9</td>\n",
       "      <td>3.0</td>\n",
       "      <td>1.4</td>\n",
       "      <td>0.2</td>\n",
       "      <td>Iris-setosa</td>\n",
       "      <td>Cluster 0</td>\n",
       "    </tr>\n",
       "    <tr>\n",
       "      <th>2</th>\n",
       "      <td>4.7</td>\n",
       "      <td>3.2</td>\n",
       "      <td>1.3</td>\n",
       "      <td>0.2</td>\n",
       "      <td>Iris-setosa</td>\n",
       "      <td>Cluster 0</td>\n",
       "    </tr>\n",
       "    <tr>\n",
       "      <th>3</th>\n",
       "      <td>4.6</td>\n",
       "      <td>3.1</td>\n",
       "      <td>1.5</td>\n",
       "      <td>0.2</td>\n",
       "      <td>Iris-setosa</td>\n",
       "      <td>Cluster 0</td>\n",
       "    </tr>\n",
       "    <tr>\n",
       "      <th>4</th>\n",
       "      <td>5.0</td>\n",
       "      <td>3.6</td>\n",
       "      <td>1.4</td>\n",
       "      <td>0.2</td>\n",
       "      <td>Iris-setosa</td>\n",
       "      <td>Cluster 0</td>\n",
       "    </tr>\n",
       "  </tbody>\n",
       "</table>\n",
       "</div>"
      ],
      "text/plain": [
       "   sepal_length  sepal_width  petal_length  petal_width      species    Cluster\n",
       "0           5.1          3.5           1.4          0.2  Iris-setosa  Cluster 0\n",
       "1           4.9          3.0           1.4          0.2  Iris-setosa  Cluster 0\n",
       "2           4.7          3.2           1.3          0.2  Iris-setosa  Cluster 0\n",
       "3           4.6          3.1           1.5          0.2  Iris-setosa  Cluster 0\n",
       "4           5.0          3.6           1.4          0.2  Iris-setosa  Cluster 0"
      ]
     },
     "execution_count": 19,
     "metadata": {},
     "output_type": "execute_result"
    }
   ],
   "source": [
    "#Loading the kmeans model\n",
    "loaded_kmeans = load_model(\"../Models/kmeans\")\n",
    "\n",
    "#we assign the cluster predictions as labels to the dataframe\n",
    "predictions = predict_model(loaded_kmeans, data = df)\n",
    "\n",
    "#saving predictions as csv\n",
    "predictions.to_csv(\"../DB/Output/Predictions.csv\")\n",
    "\n",
    "predictions.head()"
   ]
  }
 ],
 "metadata": {
  "interpreter": {
   "hash": "95e3d9437fea600231f4ec54e2a94736a5f6c19c8d132000a6ddf6b5b57aa3d5"
  },
  "kernelspec": {
   "display_name": "Python 3.8.12 64-bit ('pycaret': conda)",
   "language": "python",
   "name": "python3"
  },
  "language_info": {
   "codemirror_mode": {
    "name": "ipython",
    "version": 3
   },
   "file_extension": ".py",
   "mimetype": "text/x-python",
   "name": "python",
   "nbconvert_exporter": "python",
   "pygments_lexer": "ipython3",
   "version": "3.8.12"
  },
  "orig_nbformat": 4
 },
 "nbformat": 4,
 "nbformat_minor": 2
}
